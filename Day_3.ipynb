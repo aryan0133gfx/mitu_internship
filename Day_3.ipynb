{
 "cells": [
  {
   "cell_type": "markdown",
   "id": "6985c467-f339-40c8-9ca8-4248ac79511c",
   "metadata": {},
   "source": [
    "### List"
   ]
  },
  {
   "cell_type": "code",
   "execution_count": 2,
   "id": "2fd30f09-f82a-40ce-ac4a-d4d683fea1d4",
   "metadata": {},
   "outputs": [
    {
     "name": "stdout",
     "output_type": "stream",
     "text": [
      "[12, 23, 34, 45, 17]\n"
     ]
    }
   ],
   "source": [
    "l = [12,23,34,45,17]\n",
    "print(l)"
   ]
  },
  {
   "cell_type": "code",
   "execution_count": 3,
   "id": "2fed6049-f253-4305-b883-c59405c45ed1",
   "metadata": {},
   "outputs": [
    {
     "data": {
      "text/plain": [
       "list"
      ]
     },
     "execution_count": 3,
     "metadata": {},
     "output_type": "execute_result"
    }
   ],
   "source": [
    "type(l)"
   ]
  },
  {
   "cell_type": "code",
   "execution_count": 4,
   "id": "bd4c660e-c5f8-4f42-9468-6e3aa9390e1b",
   "metadata": {},
   "outputs": [
    {
     "name": "stdout",
     "output_type": "stream",
     "text": [
      "[12, 23, 34, 45, 17, 12, 'tanvi']\n"
     ]
    }
   ],
   "source": [
    "l = [12,23,34,45,17,12,'tanvi']\n",
    "print(l)"
   ]
  },
  {
   "cell_type": "code",
   "execution_count": 10,
   "id": "8988c5ac-a4ab-4724-93aa-b99f8fcd1214",
   "metadata": {},
   "outputs": [
    {
     "name": "stdout",
     "output_type": "stream",
     "text": [
      "True\n",
      "12\n",
      "12\n"
     ]
    }
   ],
   "source": [
    "# access the data\n",
    "\n",
    "\n",
    "l = [12,23,34,45,17,12,'tanvi',True]\n",
    "print(l[-1])\n",
    "print(l[0])\n",
    "print(l[5])"
   ]
  },
  {
   "cell_type": "code",
   "execution_count": 14,
   "id": "ed131f06-2aae-400e-a4f2-448da6dbabf2",
   "metadata": {},
   "outputs": [],
   "source": [
    "l[-1] = 57  # changing the value ==> mutable"
   ]
  },
  {
   "cell_type": "code",
   "execution_count": 15,
   "id": "da4ad008-edee-46c9-b310-4358657ce8e7",
   "metadata": {},
   "outputs": [
    {
     "data": {
      "text/plain": [
       "[12, 23, 34, 45, 17, 12, 'tanvi', 57]"
      ]
     },
     "execution_count": 15,
     "metadata": {},
     "output_type": "execute_result"
    }
   ],
   "source": [
    "l"
   ]
  },
  {
   "cell_type": "code",
   "execution_count": 16,
   "id": "5f8ac324-a120-47e5-9c8b-e1b5efa523e4",
   "metadata": {},
   "outputs": [
    {
     "data": {
      "text/plain": [
       "[12, 23, 34, 45, 17, 12, 'tanvi', 57]"
      ]
     },
     "execution_count": 16,
     "metadata": {},
     "output_type": "execute_result"
    }
   ],
   "source": [
    "l[-2]\n",
    "l"
   ]
  },
  {
   "cell_type": "code",
   "execution_count": 129,
   "id": "e213d4c1-1283-45c8-ab54-2719164627d0",
   "metadata": {},
   "outputs": [
    {
     "data": {
      "text/plain": [
       "[57, 17, 45, 'aryan', 12]"
      ]
     },
     "execution_count": 129,
     "metadata": {},
     "output_type": "execute_result"
    }
   ],
   "source": [
    "l[-2] = 'aryan'\n",
    "l"
   ]
  },
  {
   "cell_type": "markdown",
   "id": "ac25bb6b-b3b1-4cd4-b12c-edf6b71d9495",
   "metadata": {},
   "source": [
    "#### list slicing"
   ]
  },
  {
   "cell_type": "code",
   "execution_count": 18,
   "id": "5b571014-d24c-4670-93bc-b17009601a8f",
   "metadata": {},
   "outputs": [
    {
     "data": {
      "text/plain": [
       "[12, 23, 34, 45, 17, 12, 'aryan', 57]"
      ]
     },
     "execution_count": 18,
     "metadata": {},
     "output_type": "execute_result"
    }
   ],
   "source": [
    "l"
   ]
  },
  {
   "cell_type": "code",
   "execution_count": 19,
   "id": "98134126-4e86-478f-b330-558e33c3ba62",
   "metadata": {},
   "outputs": [
    {
     "data": {
      "text/plain": [
       "[34, 45, 17, 12]"
      ]
     },
     "execution_count": 19,
     "metadata": {},
     "output_type": "execute_result"
    }
   ],
   "source": [
    "l[2:6]"
   ]
  },
  {
   "cell_type": "code",
   "execution_count": 20,
   "id": "a0533498-7a54-489a-a37a-46b8ecc5100e",
   "metadata": {},
   "outputs": [],
   "source": [
    "x = l[2:6]"
   ]
  },
  {
   "cell_type": "code",
   "execution_count": 21,
   "id": "4a5f652d-b32a-47f9-8dfe-0d2d708d5fc9",
   "metadata": {},
   "outputs": [
    {
     "data": {
      "text/plain": [
       "[34, 45, 17, 12]"
      ]
     },
     "execution_count": 21,
     "metadata": {},
     "output_type": "execute_result"
    }
   ],
   "source": [
    "x"
   ]
  },
  {
   "cell_type": "code",
   "execution_count": 3,
   "id": "3ef8cbf0-e4e1-4aea-93cf-c3e9a49a6c04",
   "metadata": {},
   "outputs": [
    {
     "data": {
      "text/plain": [
       "[34, 45, 17, 12, 'tanvi']"
      ]
     },
     "execution_count": 3,
     "metadata": {},
     "output_type": "execute_result"
    }
   ],
   "source": [
    "l = [12,23,34,45,17,12,'tanvi']\n",
    "l[2:]\n"
   ]
  },
  {
   "cell_type": "code",
   "execution_count": 7,
   "id": "d8f33a4d-e76a-4112-889e-98a8e6211334",
   "metadata": {},
   "outputs": [
    {
     "data": {
      "text/plain": [
       "[12, 23, 34, 45, 17, 12, 'aryan', 57]"
      ]
     },
     "execution_count": 7,
     "metadata": {},
     "output_type": "execute_result"
    }
   ],
   "source": [
    "l = [12, 23, 34, 45, 17, 12, 'aryan', 57]\n",
    "l"
   ]
  },
  {
   "cell_type": "code",
   "execution_count": 8,
   "id": "b12cb189-259b-401a-b9b0-4b3f3bfc688e",
   "metadata": {},
   "outputs": [
    {
     "data": {
      "text/plain": [
       "[23, 45]"
      ]
     },
     "execution_count": 8,
     "metadata": {},
     "output_type": "execute_result"
    }
   ],
   "source": [
    "l[1:-3:2]"
   ]
  },
  {
   "cell_type": "code",
   "execution_count": 10,
   "id": "91cdbe30-1727-43d4-9997-cefb461466a4",
   "metadata": {},
   "outputs": [
    {
     "data": {
      "text/plain": [
       "[12, 34, 17, 'aryan']"
      ]
     },
     "execution_count": 10,
     "metadata": {},
     "output_type": "execute_result"
    }
   ],
   "source": [
    "l[::2]"
   ]
  },
  {
   "cell_type": "code",
   "execution_count": 12,
   "id": "9dce5116-b855-4402-96bb-60785de71c89",
   "metadata": {},
   "outputs": [
    {
     "data": {
      "text/plain": [
       "[12, 45, 34, 67, 17, 12, 'aryan', 57]"
      ]
     },
     "execution_count": 12,
     "metadata": {},
     "output_type": "execute_result"
    }
   ],
   "source": [
    "l[1:4] = [45,34,67]\n",
    "l"
   ]
  },
  {
   "cell_type": "code",
   "execution_count": 13,
   "id": "3888aab6-db28-4714-8f2b-95db8e590f13",
   "metadata": {},
   "outputs": [
    {
     "data": {
      "text/plain": [
       "[12, 34, 67, 17, 12, 'aryan', 57]"
      ]
     },
     "execution_count": 13,
     "metadata": {},
     "output_type": "execute_result"
    }
   ],
   "source": [
    "# deleting the data\n",
    "\n",
    "del l[1]\n",
    "l"
   ]
  },
  {
   "cell_type": "code",
   "execution_count": 14,
   "id": "c4578a00-ee56-4018-a3a1-ed83c7081e72",
   "metadata": {},
   "outputs": [
    {
     "ename": "NameError",
     "evalue": "name 'new' is not defined",
     "output_type": "error",
     "traceback": [
      "\u001b[1;31m---------------------------------------------------------------------------\u001b[0m",
      "\u001b[1;31mNameError\u001b[0m                                 Traceback (most recent call last)",
      "Cell \u001b[1;32mIn[14], line 3\u001b[0m\n\u001b[0;32m      1\u001b[0m new \u001b[38;5;241m=\u001b[39m [\u001b[38;5;241m34\u001b[39m,\u001b[38;5;241m32\u001b[39m,\u001b[38;5;241m56\u001b[39m]\n\u001b[0;32m      2\u001b[0m \u001b[38;5;28;01mdel\u001b[39;00m new\n\u001b[1;32m----> 3\u001b[0m new\n",
      "\u001b[1;31mNameError\u001b[0m: name 'new' is not defined"
     ]
    }
   ],
   "source": [
    "new = [34,32,56]\n",
    "del new\n",
    "new"
   ]
  },
  {
   "cell_type": "code",
   "execution_count": 15,
   "id": "d5451965-010e-488c-b943-dd485b409755",
   "metadata": {},
   "outputs": [
    {
     "data": {
      "text/plain": [
       "False"
      ]
     },
     "execution_count": 15,
     "metadata": {},
     "output_type": "execute_result"
    }
   ],
   "source": [
    "# in operator\n",
    "\n",
    "l = [12, 23, 34, 45, 17, 12, 'aryan', 57]\n",
    "'karan' in l"
   ]
  },
  {
   "cell_type": "code",
   "execution_count": 16,
   "id": "a3cd1807-176c-4980-bab7-6f1c66d7bced",
   "metadata": {},
   "outputs": [
    {
     "data": {
      "text/plain": [
       "True"
      ]
     },
     "execution_count": 16,
     "metadata": {},
     "output_type": "execute_result"
    }
   ],
   "source": [
    "12 in l"
   ]
  },
  {
   "cell_type": "code",
   "execution_count": 18,
   "id": "8eca139f-e332-4cde-a9d0-9ed939e2e455",
   "metadata": {},
   "outputs": [
    {
     "data": {
      "text/plain": [
       "[12, 23, 34, 45, 17, 12, 'aryan', 57, 12, 23, 34, 45, 17, 12, 'aryan', 57]"
      ]
     },
     "execution_count": 18,
     "metadata": {},
     "output_type": "execute_result"
    }
   ],
   "source": [
    "# Arithmatic operator\n",
    "\n",
    "l = [12, 23, 34, 45, 17, 12, 'aryan', 57]\n",
    "l * 2"
   ]
  },
  {
   "cell_type": "code",
   "execution_count": 19,
   "id": "f6c7df23-5eda-4aa6-9138-2d88bf5c3029",
   "metadata": {},
   "outputs": [
    {
     "data": {
      "text/plain": [
       "[12, 23, 34, 45, 17, 12, 'aryan', 57, 12, 56]"
      ]
     },
     "execution_count": 19,
     "metadata": {},
     "output_type": "execute_result"
    }
   ],
   "source": [
    "l + [12,56]"
   ]
  },
  {
   "cell_type": "code",
   "execution_count": 20,
   "id": "8e4c69a2-dadb-461f-9360-700c86c8eee5",
   "metadata": {},
   "outputs": [
    {
     "data": {
      "text/plain": [
       "[12, 23, 34, 45, 17, 12, 'aryan', 57, 56, 'aryan', 'tanvi']"
      ]
     },
     "execution_count": 20,
     "metadata": {},
     "output_type": "execute_result"
    }
   ],
   "source": [
    "l1 = [56,'aryan','tanvi']\n",
    "l + l1"
   ]
  },
  {
   "cell_type": "markdown",
   "id": "daa6a4bf-720d-4539-b5e7-ec235b0663a0",
   "metadata": {},
   "source": [
    "#### iterating list"
   ]
  },
  {
   "cell_type": "code",
   "execution_count": 25,
   "id": "eba7bb9f-09e0-49e0-9381-4584e7369e8e",
   "metadata": {},
   "outputs": [],
   "source": [
    "l = [12, 23, 34, 45, 17, 12, 57]\n"
   ]
  },
  {
   "cell_type": "code",
   "execution_count": 26,
   "id": "e490d323-93e0-46cb-8aec-b0dd8c1a00b5",
   "metadata": {},
   "outputs": [
    {
     "name": "stdout",
     "output_type": "stream",
     "text": [
      "144 529 1156 2025 289 144 3249 "
     ]
    }
   ],
   "source": [
    "#square of all ele in list\n",
    "\n",
    "for n in l:\n",
    "    print(n * n, end = ' ')"
   ]
  },
  {
   "cell_type": "code",
   "execution_count": 29,
   "id": "d53295a1-fa7f-47b4-8b26-6ea51c255354",
   "metadata": {},
   "outputs": [
    {
     "name": "stdout",
     "output_type": "stream",
     "text": [
      "23 45 17 57 "
     ]
    }
   ],
   "source": [
    "# odd number in list\n",
    "for n in l:\n",
    "    if n % 2!= 0:\n",
    "        print(n,end = ' ')"
   ]
  },
  {
   "cell_type": "markdown",
   "id": "a781fd80-fd83-4f67-bcc6-e46aec325280",
   "metadata": {},
   "source": [
    "#### list comprehension"
   ]
  },
  {
   "cell_type": "code",
   "execution_count": 30,
   "id": "fae395ee-ed5a-464b-84c8-4f9df3101e24",
   "metadata": {},
   "outputs": [
    {
     "data": {
      "text/plain": [
       "[12, 23, 34, 45, 17, 12, 57]"
      ]
     },
     "execution_count": 30,
     "metadata": {},
     "output_type": "execute_result"
    }
   ],
   "source": [
    "l"
   ]
  },
  {
   "cell_type": "code",
   "execution_count": 32,
   "id": "bfbf1937-ded7-4aab-810c-36a569526de5",
   "metadata": {},
   "outputs": [
    {
     "data": {
      "text/plain": [
       "[6.0, 11.5, 17.0, 22.5, 8.5, 6.0, 28.5]"
      ]
     },
     "execution_count": 32,
     "metadata": {},
     "output_type": "execute_result"
    }
   ],
   "source": [
    "# map\n",
    "a = [n/2 for n in l]\n",
    "a"
   ]
  },
  {
   "cell_type": "code",
   "execution_count": 33,
   "id": "137e2dbd-8efe-457b-b05b-b7c425de866a",
   "metadata": {},
   "outputs": [
    {
     "data": {
      "text/plain": [
       "list"
      ]
     },
     "execution_count": 33,
     "metadata": {},
     "output_type": "execute_result"
    }
   ],
   "source": [
    "type(a)"
   ]
  },
  {
   "cell_type": "code",
   "execution_count": 34,
   "id": "f42534fb-68ea-46fb-8f75-e7d0ccc119da",
   "metadata": {},
   "outputs": [
    {
     "data": {
      "text/plain": [
       "[144, 529, 1156, 2025, 289, 144, 3249]"
      ]
     },
     "execution_count": 34,
     "metadata": {},
     "output_type": "execute_result"
    }
   ],
   "source": [
    "aa = [n*n for n in l]\n",
    "aa"
   ]
  },
  {
   "cell_type": "code",
   "execution_count": 35,
   "id": "0ff145fc-026c-4f60-b9e8-d5e3b27a7dca",
   "metadata": {},
   "outputs": [
    {
     "data": {
      "text/plain": [
       "[12, 23, 34, 45, 17, 12, 57]"
      ]
     },
     "execution_count": 35,
     "metadata": {},
     "output_type": "execute_result"
    }
   ],
   "source": [
    "# filter\n",
    "\n",
    "l"
   ]
  },
  {
   "cell_type": "code",
   "execution_count": 36,
   "id": "80a4df08-4ab6-4d80-832b-e75699d7b2fa",
   "metadata": {},
   "outputs": [
    {
     "data": {
      "text/plain": [
       "[45, 57]"
      ]
     },
     "execution_count": 36,
     "metadata": {},
     "output_type": "execute_result"
    }
   ],
   "source": [
    "b = [n for n in l if n>40]\n",
    "b"
   ]
  },
  {
   "cell_type": "code",
   "execution_count": 38,
   "id": "fefa1cf1-b193-4146-8a8d-89bdbca2764c",
   "metadata": {},
   "outputs": [
    {
     "data": {
      "text/plain": [
       "[23, 45, 17, 57]"
      ]
     },
     "execution_count": 38,
     "metadata": {},
     "output_type": "execute_result"
    }
   ],
   "source": [
    "b  = [n for n in l if n%2!=0]\n",
    "b"
   ]
  },
  {
   "cell_type": "code",
   "execution_count": 40,
   "id": "5fd13109-b4b8-41cc-baff-5f750923d891",
   "metadata": {},
   "outputs": [
    {
     "data": {
      "text/plain": [
       "['tanvi', 'tejas', 'tejal']"
      ]
     },
     "execution_count": 40,
     "metadata": {},
     "output_type": "execute_result"
    }
   ],
   "source": [
    "# list containing names which \n",
    "name = ['aryan','tanvi','karan','tejas','alpit','tejal']\n",
    "[n for n in name if n.startswith('t')]"
   ]
  },
  {
   "cell_type": "code",
   "execution_count": 44,
   "id": "89e7d95a-43fd-4a81-aba9-f3159bbbdd1b",
   "metadata": {},
   "outputs": [
    {
     "name": "stdout",
     "output_type": "stream",
     "text": [
      "['ARYAN', 'TANVI', 'KARAN', 'TEJAS', 'ALPIT', 'TEJAL']\n"
     ]
    }
   ],
   "source": [
    "x = [n.upper() for n in name]\n",
    "print(x)"
   ]
  },
  {
   "cell_type": "markdown",
   "id": "462700df-4aa6-4c9d-8b4d-0baf9276cdd7",
   "metadata": {},
   "source": [
    "#### empty list"
   ]
  },
  {
   "cell_type": "code",
   "execution_count": 48,
   "id": "5aeaeb09-040f-4389-86fe-ec870fc8cdc8",
   "metadata": {},
   "outputs": [
    {
     "data": {
      "text/plain": [
       "list"
      ]
     },
     "execution_count": 48,
     "metadata": {},
     "output_type": "execute_result"
    }
   ],
   "source": [
    "e = []\n",
    "type(e)\n"
   ]
  },
  {
   "cell_type": "code",
   "execution_count": 49,
   "id": "6e5e8f98-564b-415c-92d4-4ad2d3d37c58",
   "metadata": {},
   "outputs": [
    {
     "ename": "IndexError",
     "evalue": "list index out of range",
     "output_type": "error",
     "traceback": [
      "\u001b[1;31m---------------------------------------------------------------------------\u001b[0m",
      "\u001b[1;31mIndexError\u001b[0m                                Traceback (most recent call last)",
      "Cell \u001b[1;32mIn[49], line 1\u001b[0m\n\u001b[1;32m----> 1\u001b[0m e[\u001b[38;5;241m0\u001b[39m]\n",
      "\u001b[1;31mIndexError\u001b[0m: list index out of range"
     ]
    }
   ],
   "source": [
    "e[0]"
   ]
  },
  {
   "cell_type": "code",
   "execution_count": 50,
   "id": "1543c077-0d78-4cec-90c6-e019b20f6d19",
   "metadata": {},
   "outputs": [
    {
     "data": {
      "text/plain": [
       "[4]"
      ]
     },
     "execution_count": 50,
     "metadata": {},
     "output_type": "execute_result"
    }
   ],
   "source": [
    "e = e+[4]\n",
    "e"
   ]
  },
  {
   "cell_type": "markdown",
   "id": "48438a6f-365a-4dd5-af15-1f593f37cc59",
   "metadata": {},
   "source": [
    "#### list decomposition"
   ]
  },
  {
   "cell_type": "code",
   "execution_count": 51,
   "id": "8e219e48-00e7-48bc-bfe1-d72f9261646e",
   "metadata": {},
   "outputs": [],
   "source": [
    "l1 = [34,46,78]"
   ]
  },
  {
   "cell_type": "code",
   "execution_count": 52,
   "id": "505cc6b7-ef22-4b58-89cc-a2067752d4f9",
   "metadata": {},
   "outputs": [],
   "source": [
    "x,y,z = l1"
   ]
  },
  {
   "cell_type": "code",
   "execution_count": 53,
   "id": "2b3c8af5-cb1e-4ab5-a0db-17b6d8f56cc6",
   "metadata": {},
   "outputs": [
    {
     "data": {
      "text/plain": [
       "34"
      ]
     },
     "execution_count": 53,
     "metadata": {},
     "output_type": "execute_result"
    }
   ],
   "source": [
    "x"
   ]
  },
  {
   "cell_type": "code",
   "execution_count": 54,
   "id": "5607059a-b295-4c1c-9fbe-38f10e67e738",
   "metadata": {},
   "outputs": [
    {
     "data": {
      "text/plain": [
       "46"
      ]
     },
     "execution_count": 54,
     "metadata": {},
     "output_type": "execute_result"
    }
   ],
   "source": [
    "y"
   ]
  },
  {
   "cell_type": "code",
   "execution_count": 55,
   "id": "2be87c8a-1532-4286-99d5-a92b5844b456",
   "metadata": {},
   "outputs": [
    {
     "data": {
      "text/plain": [
       "78"
      ]
     },
     "execution_count": 55,
     "metadata": {},
     "output_type": "execute_result"
    }
   ],
   "source": [
    "z"
   ]
  },
  {
   "cell_type": "code",
   "execution_count": 56,
   "id": "7b08fdae-cffd-45ff-91d0-65ad1e16a88f",
   "metadata": {},
   "outputs": [],
   "source": [
    " # function"
   ]
  },
  {
   "cell_type": "code",
   "execution_count": 57,
   "id": "d2072262-6ac4-4a42-a7d6-8f7defdac75f",
   "metadata": {},
   "outputs": [
    {
     "data": {
      "text/plain": [
       "[12, 23, 34, 45, 17, 12, 57]"
      ]
     },
     "execution_count": 57,
     "metadata": {},
     "output_type": "execute_result"
    }
   ],
   "source": [
    "l"
   ]
  },
  {
   "cell_type": "code",
   "execution_count": 62,
   "id": "dc34513a-ad62-46a6-b572-544c83cba42a",
   "metadata": {},
   "outputs": [
    {
     "name": "stdout",
     "output_type": "stream",
     "text": [
      "7\n",
      "57\n",
      "12\n",
      "200\n",
      "[12, 12, 17, 23, 34, 45, 57]\n",
      "[57, 45, 34, 23, 17, 12, 12]\n"
     ]
    }
   ],
   "source": [
    "print(len(l))\n",
    "print(max(l))\n",
    "print(min(l))\n",
    "print(sum(l))\n",
    "print(sorted(l))\n",
    "print(sorted(l, reverse = True))"
   ]
  },
  {
   "cell_type": "code",
   "execution_count": 63,
   "id": "4df98639-f21c-42c5-885b-e970726f06e2",
   "metadata": {},
   "outputs": [
    {
     "data": {
      "text/plain": [
       "['A', 'r', 'y', 'a', 'n']"
      ]
     },
     "execution_count": 63,
     "metadata": {},
     "output_type": "execute_result"
    }
   ],
   "source": [
    "name = 'Aryan'\n",
    "list(name)"
   ]
  },
  {
   "cell_type": "code",
   "execution_count": 64,
   "id": "3b934705-3e44-4ab8-9360-423aae8799da",
   "metadata": {},
   "outputs": [],
   "source": [
    "## methods on list"
   ]
  },
  {
   "cell_type": "code",
   "execution_count": 65,
   "id": "989f342f-0688-4fcb-a845-7724f7a5fd82",
   "metadata": {},
   "outputs": [
    {
     "data": {
      "text/plain": [
       "[12, 23, 34, 45, 17, 12, 57]"
      ]
     },
     "execution_count": 65,
     "metadata": {},
     "output_type": "execute_result"
    }
   ],
   "source": [
    "l"
   ]
  },
  {
   "cell_type": "code",
   "execution_count": 66,
   "id": "45ee3a99-6121-4721-9e50-4212857adc61",
   "metadata": {},
   "outputs": [],
   "source": [
    "#append\n",
    "l.append(100) # add element to list "
   ]
  },
  {
   "cell_type": "code",
   "execution_count": 67,
   "id": "d19de090-0512-4280-b3ac-ee72594513ef",
   "metadata": {},
   "outputs": [
    {
     "data": {
      "text/plain": [
       "[12, 23, 34, 45, 17, 12, 57, 100]"
      ]
     },
     "execution_count": 67,
     "metadata": {},
     "output_type": "execute_result"
    }
   ],
   "source": [
    "l"
   ]
  },
  {
   "cell_type": "code",
   "execution_count": 71,
   "id": "844dafb1-7c5e-4ba4-b427-1e56e56621aa",
   "metadata": {},
   "outputs": [
    {
     "name": "stdout",
     "output_type": "stream",
     "text": [
      "[23, 45, 56, 34, 3, [100, 32]]\n",
      "[23, 45, 56, 34, 3, 100, 32]\n",
      "[100, 32]\n"
     ]
    }
   ],
   "source": [
    "#append extend\n",
    "x =  [23,45,56,34,3]\n",
    "y =  [23,45,56,34,3]\n",
    "x.append([100,32])\n",
    "y.extend([100,32])\n",
    "print(x)\n",
    "print(y)\n",
    "print(x[-1])"
   ]
  },
  {
   "cell_type": "code",
   "execution_count": 72,
   "id": "cff6b1f0-ef36-4ee0-81e4-58820c68f725",
   "metadata": {},
   "outputs": [
    {
     "data": {
      "text/plain": [
       "32"
      ]
     },
     "execution_count": 72,
     "metadata": {},
     "output_type": "execute_result"
    }
   ],
   "source": [
    "x[-1][1]"
   ]
  },
  {
   "cell_type": "code",
   "execution_count": 73,
   "id": "1d476800-2622-4265-983f-6387c5962cbd",
   "metadata": {},
   "outputs": [
    {
     "data": {
      "text/plain": [
       "[12, 23, 34, 45, 17, 12, 57, 100]"
      ]
     },
     "execution_count": 73,
     "metadata": {},
     "output_type": "execute_result"
    }
   ],
   "source": [
    "# insert\n",
    "l"
   ]
  },
  {
   "cell_type": "code",
   "execution_count": 74,
   "id": "49daac11-490f-4d6a-a4ac-e59633d4164f",
   "metadata": {},
   "outputs": [
    {
     "data": {
      "text/plain": [
       "[12, 23, 2, 34, 45, 17, 12, 57, 100]"
      ]
     },
     "execution_count": 74,
     "metadata": {},
     "output_type": "execute_result"
    }
   ],
   "source": [
    "l.insert(2,2)\n",
    "l"
   ]
  },
  {
   "cell_type": "code",
   "execution_count": 78,
   "id": "b006193f-4527-481f-ad87-ad00a065aa6e",
   "metadata": {},
   "outputs": [
    {
     "data": {
      "text/plain": [
       "[12, 23, 34, 45, 17, 12, 57, 100]"
      ]
     },
     "execution_count": 78,
     "metadata": {},
     "output_type": "execute_result"
    }
   ],
   "source": [
    "#remove\n",
    "l"
   ]
  },
  {
   "cell_type": "code",
   "execution_count": 79,
   "id": "50fcf668-0215-412d-84a3-77c09ad6bf38",
   "metadata": {},
   "outputs": [
    {
     "data": {
      "text/plain": [
       "[12, 34, 45, 17, 12, 57, 100]"
      ]
     },
     "execution_count": 79,
     "metadata": {},
     "output_type": "execute_result"
    }
   ],
   "source": [
    "l.remove(23)\n",
    "l"
   ]
  },
  {
   "cell_type": "code",
   "execution_count": 80,
   "id": "c7cd7e27-ecc3-44de-a681-bf14e96c016d",
   "metadata": {},
   "outputs": [
    {
     "data": {
      "text/plain": [
       "2"
      ]
     },
     "execution_count": 80,
     "metadata": {},
     "output_type": "execute_result"
    }
   ],
   "source": [
    "l.index(45)"
   ]
  },
  {
   "cell_type": "code",
   "execution_count": 81,
   "id": "198e548b-817b-43ae-aad4-2a1959683cf2",
   "metadata": {},
   "outputs": [
    {
     "data": {
      "text/plain": [
       "2"
      ]
     },
     "execution_count": 81,
     "metadata": {},
     "output_type": "execute_result"
    }
   ],
   "source": [
    "l.count(12)"
   ]
  },
  {
   "cell_type": "code",
   "execution_count": 83,
   "id": "9f4e7f63-497a-47d0-966c-f9ab64a61d65",
   "metadata": {},
   "outputs": [
    {
     "data": {
      "text/plain": [
       "[12, 34, 45, 17, 12, 57, 100]"
      ]
     },
     "execution_count": 83,
     "metadata": {},
     "output_type": "execute_result"
    }
   ],
   "source": [
    "#delete/pop\n",
    "l"
   ]
  },
  {
   "cell_type": "code",
   "execution_count": 84,
   "id": "61014b92-8de8-4224-8ac2-72263d995cb8",
   "metadata": {},
   "outputs": [
    {
     "data": {
      "text/plain": [
       "100"
      ]
     },
     "execution_count": 84,
     "metadata": {},
     "output_type": "execute_result"
    }
   ],
   "source": [
    "l.pop()"
   ]
  },
  {
   "cell_type": "code",
   "execution_count": 85,
   "id": "ad7d2c23-3622-479d-9853-768ba475ccb7",
   "metadata": {},
   "outputs": [
    {
     "data": {
      "text/plain": [
       "[12, 34, 45, 17, 12, 57]"
      ]
     },
     "execution_count": 85,
     "metadata": {},
     "output_type": "execute_result"
    }
   ],
   "source": [
    "l"
   ]
  },
  {
   "cell_type": "code",
   "execution_count": 86,
   "id": "9c4ea414-e643-4f39-8188-532fc668e53f",
   "metadata": {},
   "outputs": [
    {
     "data": {
      "text/plain": [
       "12"
      ]
     },
     "execution_count": 86,
     "metadata": {},
     "output_type": "execute_result"
    }
   ],
   "source": [
    "l.pop(-2)"
   ]
  },
  {
   "cell_type": "code",
   "execution_count": 87,
   "id": "412fd00d-416f-4543-8fa6-458b90788571",
   "metadata": {},
   "outputs": [
    {
     "data": {
      "text/plain": [
       "[12, 34, 45, 17, 57]"
      ]
     },
     "execution_count": 87,
     "metadata": {},
     "output_type": "execute_result"
    }
   ],
   "source": [
    "l"
   ]
  },
  {
   "cell_type": "code",
   "execution_count": 88,
   "id": "edcd0a4c-5b0c-4a74-bab2-71de9719b973",
   "metadata": {},
   "outputs": [],
   "source": [
    "l.reverse()"
   ]
  },
  {
   "cell_type": "code",
   "execution_count": 89,
   "id": "0a115f8a-fe50-442e-b0ae-a71cb34a36aa",
   "metadata": {},
   "outputs": [
    {
     "data": {
      "text/plain": [
       "[57, 17, 45, 34, 12]"
      ]
     },
     "execution_count": 89,
     "metadata": {},
     "output_type": "execute_result"
    }
   ],
   "source": [
    "l"
   ]
  },
  {
   "cell_type": "code",
   "execution_count": 90,
   "id": "6ee84dcc-65f3-4106-8e7a-9299babc9114",
   "metadata": {},
   "outputs": [
    {
     "data": {
      "text/plain": [
       "[57, 17, 45, 34, 12]"
      ]
     },
     "execution_count": 90,
     "metadata": {},
     "output_type": "execute_result"
    }
   ],
   "source": [
    "# iterate  over a list print index and the value assing to it\n",
    "\n",
    "l"
   ]
  },
  {
   "cell_type": "code",
   "execution_count": 104,
   "id": "34d381bc-1019-4d56-a580-eb6c223e6ee2",
   "metadata": {},
   "outputs": [],
   "source": [
    "# enmuerate"
   ]
  },
  {
   "cell_type": "code",
   "execution_count": 105,
   "id": "45f0c2c1-c190-467c-8752-9b60b38cb86e",
   "metadata": {},
   "outputs": [
    {
     "data": {
      "text/plain": [
       "[57, 17, 45, 34, 12]"
      ]
     },
     "execution_count": 105,
     "metadata": {},
     "output_type": "execute_result"
    }
   ],
   "source": [
    "l"
   ]
  },
  {
   "cell_type": "code",
   "execution_count": 106,
   "id": "c1874411-14c8-4044-8638-172f5e616c83",
   "metadata": {},
   "outputs": [
    {
     "name": "stdout",
     "output_type": "stream",
     "text": [
      "0 57\n",
      "1 17\n",
      "2 45\n",
      "3 34\n",
      "4 12\n"
     ]
    }
   ],
   "source": [
    "for index,n in enumerate(l):\n",
    "    print(index,n)"
   ]
  },
  {
   "cell_type": "markdown",
   "id": "a6a8fc29-0c32-4d65-bb6d-8c70292fef28",
   "metadata": {},
   "source": [
    "#### shallow copy"
   ]
  },
  {
   "cell_type": "code",
   "execution_count": 109,
   "id": "436182ed-72b2-44a2-bb59-c997db61511e",
   "metadata": {},
   "outputs": [
    {
     "data": {
      "text/plain": [
       "[32, 44, 54]"
      ]
     },
     "execution_count": 109,
     "metadata": {},
     "output_type": "execute_result"
    }
   ],
   "source": [
    "l1 = [32,44,54]\n",
    "l2 = l1\n",
    "l2\n"
   ]
  },
  {
   "cell_type": "code",
   "execution_count": 110,
   "id": "6b66c941-4588-42c1-af58-40f5b5e95d38",
   "metadata": {},
   "outputs": [
    {
     "data": {
      "text/plain": [
       "[32, 44, 54, 2]"
      ]
     },
     "execution_count": 110,
     "metadata": {},
     "output_type": "execute_result"
    }
   ],
   "source": [
    "l1.append(2)\n",
    "l2"
   ]
  },
  {
   "cell_type": "code",
   "execution_count": 111,
   "id": "b452c7c0-b4ae-495b-b3f5-41980706c4f6",
   "metadata": {},
   "outputs": [],
   "source": [
    "l3 = l1.copy()"
   ]
  },
  {
   "cell_type": "code",
   "execution_count": 112,
   "id": "30e34455-a12d-4574-885d-64aa0d1bab0e",
   "metadata": {},
   "outputs": [
    {
     "data": {
      "text/plain": [
       "[32, 44, 54, 2]"
      ]
     },
     "execution_count": 112,
     "metadata": {},
     "output_type": "execute_result"
    }
   ],
   "source": [
    "l3"
   ]
  },
  {
   "cell_type": "code",
   "execution_count": 114,
   "id": "c41d7db8-46b5-495c-97cf-36f4eaa946a2",
   "metadata": {},
   "outputs": [],
   "source": [
    "l1.append(1000)"
   ]
  },
  {
   "cell_type": "code",
   "execution_count": 115,
   "id": "4d2f7cd0-838b-44cd-92dd-fd1b1236a10d",
   "metadata": {},
   "outputs": [
    {
     "data": {
      "text/plain": [
       "[32, 44, 54, 2, 1000]"
      ]
     },
     "execution_count": 115,
     "metadata": {},
     "output_type": "execute_result"
    }
   ],
   "source": [
    "l1"
   ]
  },
  {
   "cell_type": "code",
   "execution_count": 116,
   "id": "c807e421-16fa-4767-bad1-b3ac1add9fcf",
   "metadata": {},
   "outputs": [
    {
     "data": {
      "text/plain": [
       "[32, 44, 54, 2]"
      ]
     },
     "execution_count": 116,
     "metadata": {},
     "output_type": "execute_result"
    }
   ],
   "source": [
    "l3"
   ]
  },
  {
   "cell_type": "code",
   "execution_count": 117,
   "id": "0ecdcf20-d81d-4d7a-b33c-3d6d809591e4",
   "metadata": {},
   "outputs": [
    {
     "data": {
      "text/plain": [
       "[32, 44, 54, 2, 1000, [12, 23]]"
      ]
     },
     "execution_count": 117,
     "metadata": {},
     "output_type": "execute_result"
    }
   ],
   "source": [
    "l1.append([12,23])\n",
    "l1"
   ]
  },
  {
   "cell_type": "code",
   "execution_count": 118,
   "id": "51e6e19a-e86d-477f-8fc7-7beaeecb5cb5",
   "metadata": {},
   "outputs": [],
   "source": [
    "l2 = l1.copy()"
   ]
  },
  {
   "cell_type": "code",
   "execution_count": 119,
   "id": "de1aac3e-7a80-421b-9e80-46d3f9c53b2f",
   "metadata": {},
   "outputs": [
    {
     "data": {
      "text/plain": [
       "[32, 44, 54, 2, 1000, [12, 23]]"
      ]
     },
     "execution_count": 119,
     "metadata": {},
     "output_type": "execute_result"
    }
   ],
   "source": [
    "l2"
   ]
  },
  {
   "cell_type": "code",
   "execution_count": 122,
   "id": "47ce84c3-bbb5-4499-92a2-83b90d7d3817",
   "metadata": {},
   "outputs": [
    {
     "data": {
      "text/plain": [
       "[32, 44, 54, 2, 1000, [12, 23]]"
      ]
     },
     "execution_count": 122,
     "metadata": {},
     "output_type": "execute_result"
    }
   ],
   "source": [
    "l1"
   ]
  },
  {
   "cell_type": "code",
   "execution_count": 123,
   "id": "853f4293-b704-4dd5-a741-1e2d83ecf395",
   "metadata": {},
   "outputs": [
    {
     "data": {
      "text/plain": [
       "[32, 44, 54, 2, 1000, [12, 23, 1000]]"
      ]
     },
     "execution_count": 123,
     "metadata": {},
     "output_type": "execute_result"
    }
   ],
   "source": [
    "l1\n",
    "l1[-1].append(1000)\n",
    "l1"
   ]
  },
  {
   "cell_type": "code",
   "execution_count": 124,
   "id": "c359d22b-af1a-4e57-94c2-1b09a77fa4d1",
   "metadata": {},
   "outputs": [
    {
     "data": {
      "text/plain": [
       "[32, 44, 54, 2, 1000, [12, 23, 1000]]"
      ]
     },
     "execution_count": 124,
     "metadata": {},
     "output_type": "execute_result"
    }
   ],
   "source": [
    "l2"
   ]
  },
  {
   "cell_type": "code",
   "execution_count": 128,
   "id": "44cc9277-3ba1-46e8-91c3-b81e3273c3b9",
   "metadata": {},
   "outputs": [
    {
     "name": "stdout",
     "output_type": "stream",
     "text": [
      "Help on class list in module builtins:\n",
      "\n",
      "class list(object)\n",
      " |  list(iterable=(), /)\n",
      " |  \n",
      " |  Built-in mutable sequence.\n",
      " |  \n",
      " |  If no argument is given, the constructor creates a new empty list.\n",
      " |  The argument must be an iterable if specified.\n",
      " |  \n",
      " |  Methods defined here:\n",
      " |  \n",
      " |  __add__(self, value, /)\n",
      " |      Return self+value.\n",
      " |  \n",
      " |  __contains__(self, key, /)\n",
      " |      Return key in self.\n",
      " |  \n",
      " |  __delitem__(self, key, /)\n",
      " |      Delete self[key].\n",
      " |  \n",
      " |  __eq__(self, value, /)\n",
      " |      Return self==value.\n",
      " |  \n",
      " |  __ge__(self, value, /)\n",
      " |      Return self>=value.\n",
      " |  \n",
      " |  __getattribute__(self, name, /)\n",
      " |      Return getattr(self, name).\n",
      " |  \n",
      " |  __getitem__(...)\n",
      " |      x.__getitem__(y) <==> x[y]\n",
      " |  \n",
      " |  __gt__(self, value, /)\n",
      " |      Return self>value.\n",
      " |  \n",
      " |  __iadd__(self, value, /)\n",
      " |      Implement self+=value.\n",
      " |  \n",
      " |  __imul__(self, value, /)\n",
      " |      Implement self*=value.\n",
      " |  \n",
      " |  __init__(self, /, *args, **kwargs)\n",
      " |      Initialize self.  See help(type(self)) for accurate signature.\n",
      " |  \n",
      " |  __iter__(self, /)\n",
      " |      Implement iter(self).\n",
      " |  \n",
      " |  __le__(self, value, /)\n",
      " |      Return self<=value.\n",
      " |  \n",
      " |  __len__(self, /)\n",
      " |      Return len(self).\n",
      " |  \n",
      " |  __lt__(self, value, /)\n",
      " |      Return self<value.\n",
      " |  \n",
      " |  __mul__(self, value, /)\n",
      " |      Return self*value.\n",
      " |  \n",
      " |  __ne__(self, value, /)\n",
      " |      Return self!=value.\n",
      " |  \n",
      " |  __repr__(self, /)\n",
      " |      Return repr(self).\n",
      " |  \n",
      " |  __reversed__(self, /)\n",
      " |      Return a reverse iterator over the list.\n",
      " |  \n",
      " |  __rmul__(self, value, /)\n",
      " |      Return value*self.\n",
      " |  \n",
      " |  __setitem__(self, key, value, /)\n",
      " |      Set self[key] to value.\n",
      " |  \n",
      " |  __sizeof__(self, /)\n",
      " |      Return the size of the list in memory, in bytes.\n",
      " |  \n",
      " |  append(self, object, /)\n",
      " |      Append object to the end of the list.\n",
      " |  \n",
      " |  clear(self, /)\n",
      " |      Remove all items from list.\n",
      " |  \n",
      " |  copy(self, /)\n",
      " |      Return a shallow copy of the list.\n",
      " |  \n",
      " |  count(self, value, /)\n",
      " |      Return number of occurrences of value.\n",
      " |  \n",
      " |  extend(self, iterable, /)\n",
      " |      Extend list by appending elements from the iterable.\n",
      " |  \n",
      " |  index(self, value, start=0, stop=9223372036854775807, /)\n",
      " |      Return first index of value.\n",
      " |      \n",
      " |      Raises ValueError if the value is not present.\n",
      " |  \n",
      " |  insert(self, index, object, /)\n",
      " |      Insert object before index.\n",
      " |  \n",
      " |  pop(self, index=-1, /)\n",
      " |      Remove and return item at index (default last).\n",
      " |      \n",
      " |      Raises IndexError if list is empty or index is out of range.\n",
      " |  \n",
      " |  remove(self, value, /)\n",
      " |      Remove first occurrence of value.\n",
      " |      \n",
      " |      Raises ValueError if the value is not present.\n",
      " |  \n",
      " |  reverse(self, /)\n",
      " |      Reverse *IN PLACE*.\n",
      " |  \n",
      " |  sort(self, /, *, key=None, reverse=False)\n",
      " |      Sort the list in ascending order and return None.\n",
      " |      \n",
      " |      The sort is in-place (i.e. the list itself is modified) and stable (i.e. the\n",
      " |      order of two equal elements is maintained).\n",
      " |      \n",
      " |      If a key function is given, apply it once to each list item and sort them,\n",
      " |      ascending or descending, according to their function values.\n",
      " |      \n",
      " |      The reverse flag can be set to sort in descending order.\n",
      " |  \n",
      " |  ----------------------------------------------------------------------\n",
      " |  Class methods defined here:\n",
      " |  \n",
      " |  __class_getitem__(...) from builtins.type\n",
      " |      See PEP 585\n",
      " |  \n",
      " |  ----------------------------------------------------------------------\n",
      " |  Static methods defined here:\n",
      " |  \n",
      " |  __new__(*args, **kwargs) from builtins.type\n",
      " |      Create and return a new object.  See help(type) for accurate signature.\n",
      " |  \n",
      " |  ----------------------------------------------------------------------\n",
      " |  Data and other attributes defined here:\n",
      " |  \n",
      " |  __hash__ = None\n",
      "\n"
     ]
    }
   ],
   "source": [
    "help(list)"
   ]
  },
  {
   "cell_type": "code",
   "execution_count": 126,
   "id": "34a5820e-f469-4f18-a7fc-1f3d192cc1a2",
   "metadata": {},
   "outputs": [
    {
     "data": {
      "text/plain": [
       "[32, 44, 54, 2, 1000, [12, 23, 1000]]"
      ]
     },
     "execution_count": 126,
     "metadata": {},
     "output_type": "execute_result"
    }
   ],
   "source": [
    "l1"
   ]
  },
  {
   "cell_type": "code",
   "execution_count": 127,
   "id": "a0997785-b6c2-4eac-a0a6-285538a3fd2f",
   "metadata": {},
   "outputs": [
    {
     "data": {
      "text/plain": [
       "[]"
      ]
     },
     "execution_count": 127,
     "metadata": {},
     "output_type": "execute_result"
    }
   ],
   "source": [
    "l1.clear()\n",
    "l1"
   ]
  },
  {
   "cell_type": "markdown",
   "id": "73e3059f-3d5b-4ddc-98a1-e80308355a9d",
   "metadata": {},
   "source": [
    "### Tuple"
   ]
  },
  {
   "cell_type": "code",
   "execution_count": 130,
   "id": "a6115c45-0baa-4092-b3c5-02745ba4a5f7",
   "metadata": {},
   "outputs": [
    {
     "data": {
      "text/plain": [
       "tuple"
      ]
     },
     "execution_count": 130,
     "metadata": {},
     "output_type": "execute_result"
    }
   ],
   "source": [
    "t = (23,34,2,4,,2,24)\n",
    "type(t)"
   ]
  },
  {
   "cell_type": "code",
   "execution_count": 132,
   "id": "b6772357-a5bd-4916-a4c2-1ac1109d82b0",
   "metadata": {},
   "outputs": [
    {
     "name": "stdout",
     "output_type": "stream",
     "text": [
      "(23, 34, 2, 4, 24)\n"
     ]
    }
   ],
   "source": [
    "print(t)"
   ]
  },
  {
   "cell_type": "code",
   "execution_count": 134,
   "id": "779e653d-793e-41df-baf7-7d84ecb3ae98",
   "metadata": {},
   "outputs": [
    {
     "name": "stdout",
     "output_type": "stream",
     "text": [
      "(23, 34, 2, 4, 2, 24, 'aryan')\n"
     ]
    }
   ],
   "source": [
    "t = (23,34,2,4,2,24,'aryan')\n",
    "print(t)"
   ]
  },
  {
   "cell_type": "code",
   "execution_count": 135,
   "id": "24a425bc-fdb7-4fac-a135-67c92d25fca4",
   "metadata": {},
   "outputs": [
    {
     "data": {
      "text/plain": [
       "34"
      ]
     },
     "execution_count": 135,
     "metadata": {},
     "output_type": "execute_result"
    }
   ],
   "source": [
    "t[1]"
   ]
  },
  {
   "cell_type": "code",
   "execution_count": 136,
   "id": "bb9ab82e-2bd3-44ed-b1b6-04baa651e774",
   "metadata": {},
   "outputs": [
    {
     "ename": "TypeError",
     "evalue": "'tuple' object does not support item assignment",
     "output_type": "error",
     "traceback": [
      "\u001b[1;31m---------------------------------------------------------------------------\u001b[0m",
      "\u001b[1;31mTypeError\u001b[0m                                 Traceback (most recent call last)",
      "Cell \u001b[1;32mIn[136], line 1\u001b[0m\n\u001b[1;32m----> 1\u001b[0m t[\u001b[38;5;241m1\u001b[39m] \u001b[38;5;241m=\u001b[39m \u001b[38;5;241m3\u001b[39m\n",
      "\u001b[1;31mTypeError\u001b[0m: 'tuple' object does not support item assignment"
     ]
    }
   ],
   "source": [
    "t[1] = 3 #==> imutable"
   ]
  },
  {
   "cell_type": "code",
   "execution_count": 137,
   "id": "4726db57-156b-40fc-8b24-8c1355c95903",
   "metadata": {},
   "outputs": [
    {
     "name": "stdout",
     "output_type": "stream",
     "text": [
      "Help on class tuple in module builtins:\n",
      "\n",
      "class tuple(object)\n",
      " |  tuple(iterable=(), /)\n",
      " |  \n",
      " |  Built-in immutable sequence.\n",
      " |  \n",
      " |  If no argument is given, the constructor returns an empty tuple.\n",
      " |  If iterable is specified the tuple is initialized from iterable's items.\n",
      " |  \n",
      " |  If the argument is a tuple, the return value is the same object.\n",
      " |  \n",
      " |  Built-in subclasses:\n",
      " |      asyncgen_hooks\n",
      " |      UnraisableHookArgs\n",
      " |  \n",
      " |  Methods defined here:\n",
      " |  \n",
      " |  __add__(self, value, /)\n",
      " |      Return self+value.\n",
      " |  \n",
      " |  __contains__(self, key, /)\n",
      " |      Return key in self.\n",
      " |  \n",
      " |  __eq__(self, value, /)\n",
      " |      Return self==value.\n",
      " |  \n",
      " |  __ge__(self, value, /)\n",
      " |      Return self>=value.\n",
      " |  \n",
      " |  __getattribute__(self, name, /)\n",
      " |      Return getattr(self, name).\n",
      " |  \n",
      " |  __getitem__(self, key, /)\n",
      " |      Return self[key].\n",
      " |  \n",
      " |  __getnewargs__(self, /)\n",
      " |  \n",
      " |  __gt__(self, value, /)\n",
      " |      Return self>value.\n",
      " |  \n",
      " |  __hash__(self, /)\n",
      " |      Return hash(self).\n",
      " |  \n",
      " |  __iter__(self, /)\n",
      " |      Implement iter(self).\n",
      " |  \n",
      " |  __le__(self, value, /)\n",
      " |      Return self<=value.\n",
      " |  \n",
      " |  __len__(self, /)\n",
      " |      Return len(self).\n",
      " |  \n",
      " |  __lt__(self, value, /)\n",
      " |      Return self<value.\n",
      " |  \n",
      " |  __mul__(self, value, /)\n",
      " |      Return self*value.\n",
      " |  \n",
      " |  __ne__(self, value, /)\n",
      " |      Return self!=value.\n",
      " |  \n",
      " |  __repr__(self, /)\n",
      " |      Return repr(self).\n",
      " |  \n",
      " |  __rmul__(self, value, /)\n",
      " |      Return value*self.\n",
      " |  \n",
      " |  count(self, value, /)\n",
      " |      Return number of occurrences of value.\n",
      " |  \n",
      " |  index(self, value, start=0, stop=9223372036854775807, /)\n",
      " |      Return first index of value.\n",
      " |      \n",
      " |      Raises ValueError if the value is not present.\n",
      " |  \n",
      " |  ----------------------------------------------------------------------\n",
      " |  Class methods defined here:\n",
      " |  \n",
      " |  __class_getitem__(...) from builtins.type\n",
      " |      See PEP 585\n",
      " |  \n",
      " |  ----------------------------------------------------------------------\n",
      " |  Static methods defined here:\n",
      " |  \n",
      " |  __new__(*args, **kwargs) from builtins.type\n",
      " |      Create and return a new object.  See help(type) for accurate signature.\n",
      "\n"
     ]
    }
   ],
   "source": [
    "help(tuple)"
   ]
  },
  {
   "cell_type": "code",
   "execution_count": 138,
   "id": "ab4c22c4-064a-4b01-8301-464469219972",
   "metadata": {},
   "outputs": [
    {
     "data": {
      "text/plain": [
       "(23, 34, 2, 4, 2, 24, 'aryan')"
      ]
     },
     "execution_count": 138,
     "metadata": {},
     "output_type": "execute_result"
    }
   ],
   "source": [
    "t"
   ]
  },
  {
   "cell_type": "code",
   "execution_count": 144,
   "id": "0454e9a3-0c07-41c7-a7f0-7171b4bc5b9f",
   "metadata": {},
   "outputs": [
    {
     "data": {
      "text/plain": [
       "[23, 34, 2, 4, 2, 24, 'aryan']"
      ]
     },
     "execution_count": 144,
     "metadata": {},
     "output_type": "execute_result"
    }
   ],
   "source": [
    "m = list(t)\n",
    "m\n"
   ]
  },
  {
   "cell_type": "code",
   "execution_count": 143,
   "id": "17bf51a7-d8a9-4f10-9d88-a1950a5541f6",
   "metadata": {},
   "outputs": [
    {
     "data": {
      "text/plain": [
       "list"
      ]
     },
     "execution_count": 143,
     "metadata": {},
     "output_type": "execute_result"
    }
   ],
   "source": [
    "type(m)"
   ]
  },
  {
   "cell_type": "code",
   "execution_count": 145,
   "id": "6d10f0e9-52af-4d3d-8212-0267b8a3081c",
   "metadata": {},
   "outputs": [
    {
     "name": "stdout",
     "output_type": "stream",
     "text": [
      "(23, 34, 2, 4, 2, 24, 'aryan')\n"
     ]
    }
   ],
   "source": [
    "t1 = tuple(m)\n",
    "print(t1)"
   ]
  },
  {
   "cell_type": "markdown",
   "id": "605267b5-6a93-4ae8-a3e3-c18c6aba080e",
   "metadata": {},
   "source": [
    "### Set"
   ]
  },
  {
   "cell_type": "code",
   "execution_count": 149,
   "id": "81532787-4192-41d9-9889-7cfc61d59759",
   "metadata": {},
   "outputs": [
    {
     "data": {
      "text/plain": [
       "{2, 21, 23, 44}"
      ]
     },
     "execution_count": 149,
     "metadata": {},
     "output_type": "execute_result"
    }
   ],
   "source": [
    "s1 = {21,23,44,2,2}\n",
    "s1"
   ]
  },
  {
   "cell_type": "code",
   "execution_count": 148,
   "id": "4d152180-75d3-420e-bc47-db752d1b252c",
   "metadata": {},
   "outputs": [
    {
     "data": {
      "text/plain": [
       "set"
      ]
     },
     "execution_count": 148,
     "metadata": {},
     "output_type": "execute_result"
    }
   ],
   "source": [
    "type(s1)"
   ]
  },
  {
   "cell_type": "code",
   "execution_count": 150,
   "id": "6c7aafa4-a610-401e-88c9-dfc71ac80848",
   "metadata": {},
   "outputs": [
    {
     "ename": "TypeError",
     "evalue": "'set' object is not subscriptable",
     "output_type": "error",
     "traceback": [
      "\u001b[1;31m---------------------------------------------------------------------------\u001b[0m",
      "\u001b[1;31mTypeError\u001b[0m                                 Traceback (most recent call last)",
      "Cell \u001b[1;32mIn[150], line 1\u001b[0m\n\u001b[1;32m----> 1\u001b[0m s1[\u001b[38;5;241m0\u001b[39m]\n",
      "\u001b[1;31mTypeError\u001b[0m: 'set' object is not subscriptable"
     ]
    }
   ],
   "source": [
    "s1[0]#==> dont have index"
   ]
  },
  {
   "cell_type": "code",
   "execution_count": 151,
   "id": "697ae286-a57b-4c66-a398-a9f410d1cfbd",
   "metadata": {},
   "outputs": [],
   "source": [
    "s1.add(45)"
   ]
  },
  {
   "cell_type": "code",
   "execution_count": 152,
   "id": "e2c97edf-847b-4670-b9f8-44d22a4f47c0",
   "metadata": {},
   "outputs": [
    {
     "data": {
      "text/plain": [
       "{2, 21, 23, 44, 45}"
      ]
     },
     "execution_count": 152,
     "metadata": {},
     "output_type": "execute_result"
    }
   ],
   "source": [
    "s1"
   ]
  },
  {
   "cell_type": "code",
   "execution_count": 153,
   "id": "74165bc0-b7d7-4903-aee7-919fd787916f",
   "metadata": {},
   "outputs": [
    {
     "data": {
      "text/plain": [
       "{2, 21, 23, 44, 45, 'A'}"
      ]
     },
     "execution_count": 153,
     "metadata": {},
     "output_type": "execute_result"
    }
   ],
   "source": [
    "s1.add('A')\n",
    "s1"
   ]
  },
  {
   "cell_type": "code",
   "execution_count": 150,
   "id": "56601836-d006-41ef-8175-64759962a449",
   "metadata": {},
   "outputs": [
    {
     "ename": "TypeError",
     "evalue": "'set' object is not subscriptable",
     "output_type": "error",
     "traceback": [
      "\u001b[1;31m---------------------------------------------------------------------------\u001b[0m",
      "\u001b[1;31mTypeError\u001b[0m                                 Traceback (most recent call last)",
      "Cell \u001b[1;32mIn[150], line 1\u001b[0m\n\u001b[1;32m----> 1\u001b[0m s1[\u001b[38;5;241m0\u001b[39m]\n",
      "\u001b[1;31mTypeError\u001b[0m: 'set' object is not subscriptable"
     ]
    }
   ],
   "source": [
    "s1[0]#==> does not support index"
   ]
  },
  {
   "cell_type": "code",
   "execution_count": 154,
   "id": "9484cd56-64f5-4fa8-abb5-51f13fc97556",
   "metadata": {},
   "outputs": [
    {
     "data": {
      "text/plain": [
       "frozenset({2, 21, 23, 44, 45, 'A'})"
      ]
     },
     "execution_count": 154,
     "metadata": {},
     "output_type": "execute_result"
    }
   ],
   "source": [
    "s = frozenset(s1)\n",
    "s"
   ]
  },
  {
   "cell_type": "markdown",
   "id": "4e17aae2-272e-4ea1-9516-aa3aa2370031",
   "metadata": {},
   "source": [
    "### Dictionary "
   ]
  },
  {
   "cell_type": "code",
   "execution_count": 157,
   "id": "0ce5f9a4-2592-41c1-b0f5-9a5cb8f671bd",
   "metadata": {},
   "outputs": [
    {
     "data": {
      "text/plain": [
       "{1: 67, 2: 69, 3: 34, 4: 34, 5: 55, 6: 90, 7: 33}"
      ]
     },
     "execution_count": 157,
     "metadata": {},
     "output_type": "execute_result"
    }
   ],
   "source": [
    "d = {1:67,2:69,3:34,4:34,5:55,6:90,7:33}\n",
    "d"
   ]
  },
  {
   "cell_type": "code",
   "execution_count": 156,
   "id": "adc72204-73f4-4d0a-9cc9-5219dd5e133e",
   "metadata": {},
   "outputs": [
    {
     "data": {
      "text/plain": [
       "34"
      ]
     },
     "execution_count": 156,
     "metadata": {},
     "output_type": "execute_result"
    }
   ],
   "source": [
    "d[3]"
   ]
  },
  {
   "cell_type": "code",
   "execution_count": 158,
   "id": "e5ce4e76-cdf7-4469-8fd5-adab421012ff",
   "metadata": {},
   "outputs": [
    {
     "data": {
      "text/plain": [
       "{1: 67, 2: 34, 4: 34, 5: 55, 6: 90, 7: 33}"
      ]
     },
     "execution_count": 158,
     "metadata": {},
     "output_type": "execute_result"
    }
   ],
   "source": [
    "d1 = {1:67,2:69,2:34,4:34,5:55,6:90,7:33}#==> cant be same key\n",
    "d1"
   ]
  },
  {
   "cell_type": "code",
   "execution_count": 159,
   "id": "8f48d29b-55f7-48d8-8767-8ba3bfb6dfaa",
   "metadata": {},
   "outputs": [
    {
     "data": {
      "text/plain": [
       "{1: 67, 2: 69, 3: 100, 4: 34, 5: 55, 6: 90, 7: 33}"
      ]
     },
     "execution_count": 159,
     "metadata": {},
     "output_type": "execute_result"
    }
   ],
   "source": [
    "d[3] = 100\n",
    "d"
   ]
  },
  {
   "cell_type": "code",
   "execution_count": 162,
   "id": "192f04bd-73eb-47bd-b253-c568e8e6ec23",
   "metadata": {},
   "outputs": [
    {
     "data": {
      "text/plain": [
       "{1: 67, 2: 69, 3: 100, 4: 34, 5: 55, 6: 90, 7: 33, 10: 12}"
      ]
     },
     "execution_count": 162,
     "metadata": {},
     "output_type": "execute_result"
    }
   ],
   "source": [
    "d[10]=12\n",
    "d"
   ]
  },
  {
   "cell_type": "code",
   "execution_count": 160,
   "id": "3c6a8f3c-5b15-42fe-ad21-4b970b426d3a",
   "metadata": {},
   "outputs": [
    {
     "data": {
      "text/plain": [
       "dict_keys([1, 2, 3, 4, 5, 6, 7])"
      ]
     },
     "execution_count": 160,
     "metadata": {},
     "output_type": "execute_result"
    }
   ],
   "source": [
    "d.keys()"
   ]
  },
  {
   "cell_type": "code",
   "execution_count": 161,
   "id": "9665eee0-98e5-4d26-b6c0-5b1597ef8deb",
   "metadata": {},
   "outputs": [
    {
     "data": {
      "text/plain": [
       "dict_values([67, 69, 100, 34, 55, 90, 33])"
      ]
     },
     "execution_count": 161,
     "metadata": {},
     "output_type": "execute_result"
    }
   ],
   "source": [
    "d.values()"
   ]
  }
 ],
 "metadata": {
  "kernelspec": {
   "display_name": "Python 3 (ipykernel)",
   "language": "python",
   "name": "python3"
  },
  "language_info": {
   "codemirror_mode": {
    "name": "ipython",
    "version": 3
   },
   "file_extension": ".py",
   "mimetype": "text/x-python",
   "name": "python",
   "nbconvert_exporter": "python",
   "pygments_lexer": "ipython3",
   "version": "3.11.7"
  }
 },
 "nbformat": 4,
 "nbformat_minor": 5
}
