{
 "cells": [
  {
   "cell_type": "markdown",
   "id": "6c803e23-5b29-426c-9786-43bf628ece81",
   "metadata": {},
   "source": [
    "#### Question 1"
   ]
  },
  {
   "cell_type": "code",
   "execution_count": 7,
   "id": "16cd6490-6d1c-43b4-8821-3190925de30e",
   "metadata": {},
   "outputs": [
    {
     "name": "stdout",
     "output_type": "stream",
     "text": [
      "avarage:  5.0\n",
      "Strike_rate:  135.48387096774192\n",
      "Bowling Avarage:  31.0\n",
      "Bowling Economy:  7.75\n"
     ]
    }
   ],
   "source": [
    "'''\n",
    " Create a package named ‘cricket’ which will contain modules named\n",
    " batsman and bowler. Create following functions in respective modules.\n",
    " Import the package and call all these functions in your program\n",
    " batsman: findaverage(runs,matches), strikerate(runs,balls)\n",
    " bowler: findavg(runs,wickets), economyrate(overs, runs)\n",
    " '''\n",
    "from cricket import batsmen\n",
    "from cricket import bowler\n",
    "\n",
    "bat_avg =  batsmen.findavarage(50,10)\n",
    "bat_strike = batsmen.findstrikerate(42,31)\n",
    "\n",
    "bowl_avg = bowler.findavg(31,1)\n",
    "bowl_eco = bowler.economyrate(4,31)\n",
    "\n",
    "print('avarage: ',bat_avg)\n",
    "print('Strike_rate: ',bat_strike)\n",
    "print('Bowling Avarage: ',bowl_avg)\n",
    "print('Bowling Economy: ',bowl_eco)"
   ]
  },
  {
   "cell_type": "markdown",
   "id": "1ec7f3af-8c36-445b-8f73-f80b83fe9d32",
   "metadata": {},
   "source": [
    "#### Question 2"
   ]
  },
  {
   "cell_type": "code",
   "execution_count": 14,
   "id": "e6a46c7c-9f7d-45ae-9f83-0700e9c62932",
   "metadata": {},
   "outputs": [
    {
     "name": "stdin",
     "output_type": "stream",
     "text": [
      "Enter a number to check:  30\n"
     ]
    },
    {
     "name": "stdout",
     "output_type": "stream",
     "text": [
      "30  is not  a prime number\n"
     ]
    }
   ],
   "source": [
    "'''\n",
    "Write a Python function to find whether the number if prime or not.\n",
    " def isPrime(num)\n",
    " '''\n",
    "\n",
    "def isprime(num):\n",
    "    if num <= 1:\n",
    "        return false\n",
    "    for i in range (2,int(num ** 0.5),1):\n",
    "        if num%i == 0:\n",
    "            return False\n",
    "    return True\n",
    "        \n",
    "number = int(input('Enter a number to check: '))\n",
    "if isprime(number):\n",
    "    print(number,' is a prime number')\n",
    "else:\n",
    "    print(number,' is not  a prime number')"
   ]
  },
  {
   "cell_type": "markdown",
   "id": "48df8b62-7bc1-47de-8593-29d4f7ea6f5e",
   "metadata": {},
   "source": [
    "#### Question 3"
   ]
  },
  {
   "cell_type": "code",
   "execution_count": 52,
   "id": "7070fede-6714-4a29-bb38-0339562c8d11",
   "metadata": {},
   "outputs": [
    {
     "name": "stdin",
     "output_type": "stream",
     "text": [
      "Enter a word to check:  racecar\n"
     ]
    },
    {
     "name": "stdout",
     "output_type": "stream",
     "text": [
      "racecar  is a palindrome\n"
     ]
    }
   ],
   "source": [
    " '''Write a function is_palindrome(string) that takes a string as input and returns\n",
    " True if the string reads the same backward as forward (e.g., \"racecar\" is a palindrome).\n",
    " '''\n",
    "def is_palindrome(str):\n",
    "    return str == str[ ::-1]\n",
    "\n",
    "word = input('Enter a word to check: ')\n",
    "if is_palindrome(word):\n",
    "    print(word,' is a palindrome')\n",
    "else:\n",
    "    print(word,' is not a palindrome')"
   ]
  },
  {
   "cell_type": "markdown",
   "id": "7e63a9dd-0175-4054-ba86-a345d8416c7d",
   "metadata": {},
   "source": [
    "#### Question 4"
   ]
  },
  {
   "cell_type": "code",
   "execution_count": 5,
   "id": "422e9473-ea81-49b9-a076-640167161238",
   "metadata": {},
   "outputs": [
    {
     "name": "stdin",
     "output_type": "stream",
     "text": [
      "enter an Element: 1\n",
      "enter an Element: 2\n",
      "enter an Element: 3\n",
      "enter an Element: 4\n",
      "enter an Element: 5\n",
      "enter an Element: 6\n",
      "enter an Element: 7\n",
      "enter an Element: 8\n",
      "enter an Element: 9\n",
      "enter an Element: 0\n"
     ]
    },
    {
     "name": "stdout",
     "output_type": "stream",
     "text": [
      "[0, 9, 8, 7, 6, 5, 4, 3, 2, 1]\n"
     ]
    }
   ],
   "source": [
    "'''\n",
    "Write a function reverse_list(data) that takes a list as user input and returns a new list\n",
    " with the elements in reverse order (e.g., reverse_list([1, 2, 3]) returns [3, 2, 1]).\n",
    "'''\n",
    "l1 = [] \n",
    "for i in range(10):\n",
    "    n = int(input(\"enter an Element:\"))\n",
    "    l1.append(n)\n",
    "def reverse_list(data):\n",
    "    res = data[::-1]\n",
    "    return res\n",
    "print(reverse_list(l1))"
   ]
  },
  {
   "cell_type": "markdown",
   "id": "c631533f-df14-4c81-9929-0fc6c3ef2791",
   "metadata": {},
   "source": [
    "#### Question 5"
   ]
  },
  {
   "cell_type": "code",
   "execution_count": 14,
   "id": "23c93263-0b30-4308-82cd-f0335f2ed02e",
   "metadata": {},
   "outputs": [
    {
     "name": "stdin",
     "output_type": "stream",
     "text": [
      "Enter a filename:  aj.txt\n",
      "Enter content:  aryan jadhav\n"
     ]
    },
    {
     "name": "stdout",
     "output_type": "stream",
     "text": [
      "Content has been written to  aj.txt\n"
     ]
    }
   ],
   "source": [
    "'''write a function write_file(filename, content) that takes a filename and\n",
    " content as input and writes the content to the specified file.'''\n",
    "def write_file():\n",
    "    filename = input('Enter a filename: ')\n",
    "    content = input('Enter content: ')a\n",
    "    with open(filename,'w') as file:\n",
    "        file.write(content)\n",
    "        con = file.read\n",
    "        print('Content has been written to ',filename)\n",
    "write_file()"
   ]
  },
  {
   "cell_type": "markdown",
   "id": "e38b004c-df50-4b66-ab84-82c70ea7854f",
   "metadata": {},
   "source": [
    "#### Question 6"
   ]
  },
  {
   "cell_type": "code",
   "execution_count": 60,
   "id": "c47a4f9d-bf1c-4e75-a3c0-94959485e6de",
   "metadata": {},
   "outputs": [
    {
     "name": "stdin",
     "output_type": "stream",
     "text": [
      "enter name of source file  aj.txt\n",
      "enter name of destination file n.txt\n"
     ]
    },
    {
     "name": "stdout",
     "output_type": "stream",
     "text": [
      "your file is copied sucessfully\n"
     ]
    }
   ],
   "source": [
    "''' Write a function copy_file(source_filename, destination_filename) that\n",
    " takes the source and destination filenames as input and copies the content of the source\n",
    " file to the destination file. Handle cases where the source file doesn't exist'''\n",
    "\n",
    "def copy_file(source_filename, destination_filename):\n",
    "    try:\n",
    "        with open(source_filename,\"r\") as sf:\n",
    "            with open(destination_filename,\"w\") as df:\n",
    "                for n in sf:\n",
    "                    df.write(n)\n",
    "    except FileNotFoundError:\n",
    "        print(\"The source file doesn't exist.\")\n",
    "    except Exception as e:\n",
    "        print(\"Your error is \",e)\n",
    "    else:\n",
    "        print(\"your file is copied sucessfully\")\n",
    "source_filename = input(\"enter name of source file \")\n",
    "destination_filename = input(\"enter name of destination file\")\n",
    "copy_file(source_filename,destination_filename)"
   ]
  },
  {
   "cell_type": "markdown",
   "id": "bde518cc-3d42-478b-96cb-efb864a12528",
   "metadata": {},
   "source": [
    "#### Question 7"
   ]
  },
  {
   "cell_type": "code",
   "execution_count": 2,
   "id": "11943c92-adff-4999-9673-d817afe22332",
   "metadata": {},
   "outputs": [
    {
     "data": {
      "text/plain": [
       "145"
      ]
     },
     "execution_count": 2,
     "metadata": {},
     "output_type": "execute_result"
    }
   ],
   "source": [
    "''' Implement a function to calculate the dot product of two NumPy arrays.'''\n",
    "\n",
    "import numpy as np\n",
    "def dot_pro(arr1,arr2):\n",
    "    return arr1 @ arr2\n",
    "\n",
    "arr1 = np.array([1,2,3,4,5])\n",
    "arr2 = np.array([7,8,9,10,11])\n",
    "\n",
    "dot_pro(arr1,arr2)"
   ]
  },
  {
   "cell_type": "markdown",
   "id": "fbe07a84-cf22-49cf-8acb-961375b29141",
   "metadata": {},
   "source": [
    "#### Question 8"
   ]
  },
  {
   "cell_type": "code",
   "execution_count": 7,
   "id": "24baa078-af2a-4d12-968a-0072d3b775ea",
   "metadata": {},
   "outputs": [],
   "source": [
    "'''Implement a GUI with a radio button selection for choosing a favorite color (e.g., red,\n",
    "green, blue). Change the background color of the window based on the selected radio\n",
    "button'''\n",
    "\n",
    "import  tkinter as tk\n",
    "\n",
    "top = tk.Tk()\n",
    "top.title('Change colour')\n",
    "top.geometry('1920x1080')\n",
    "\n",
    "color_var = tk.StringVar()\n",
    "\n",
    "def change_colour():\n",
    "    selected_color = color_var.get()\n",
    "    if selected_color == \"Red\":\n",
    "        top.configure(bg=\"Red\")\n",
    "    elif selected_color == \"Green\":\n",
    "        top.configure(bg=\"Green\")\n",
    "    elif selected_color == \"Blue\":\n",
    "        top.configure(bg=\"Blue\")\n",
    "    elif selected_color == 'Orange':\n",
    "        top.configure(bg='Orange')\n",
    "\n",
    "red_radio = tk.Radiobutton(top, text=\"Red\", value=\"Red\",command = change_colour,variable = color_var,bg='Red',width=15).place(x = 900,y=350)\n",
    "blue_radio = tk.Radiobutton(top,text='Blue',value='Blue',command = change_colour,variable = color_var,bg='Blue',width=15).place(x = 900,y=380)\n",
    "orange_radio = tk.Radiobutton(top,text='orange',value='Orange',command = change_colour,variable = color_var,bg='Orange',width=15).place(x = 900,y=410)\n",
    "green_radio = tk.Radiobutton(top,text='Green',value='Green',command = change_colour,variable = color_var,bg='Green',width=15).place(x = 900,y=440)\n",
    "\n",
    "\n",
    "top.mainloop()"
   ]
  },
  {
   "cell_type": "markdown",
   "id": "68eef7ef-a5de-413c-9a6e-7614a0915f14",
   "metadata": {},
   "source": [
    "#### Question 9"
   ]
  },
  {
   "cell_type": "code",
   "execution_count": 6,
   "id": "7262d0ab-006e-493c-b368-704da7133a40",
   "metadata": {},
   "outputs": [],
   "source": [
    "'''\n",
    " Design a currency converter GUI. Allow users to enter an amount and select the\n",
    " currencies they want to convert between (e.g., USD, EUR). Display the converted\n",
    " amount in the selected currency\n",
    " '''\n",
    "\n",
    "import tkinter as tk\n",
    "from tkinter import messagebox\n",
    "\n",
    "top = tk.Tk()\n",
    "top.title('Currency converter')\n",
    "top.geometry('1910x1080')\n",
    "\n",
    "a = tk.IntVar()\n",
    "def usd():\n",
    "    amm = a.get()\n",
    "    res = amm * 83.52\n",
    "    messagebox.showinfo('res','Your ammount in USD is %i'%res)\n",
    "def eur():\n",
    "    amm = a.get()\n",
    "    res = amm*89.37\n",
    "    messagebox.showinfo('res','Your ammount in EUR is %i'%res)\n",
    "def rial():\n",
    "    amm = a.get()\n",
    "    res = amm*217.05\n",
    "    messagebox.showinfo('res','Your ammount in RIAL is %i'%res)\n",
    "\n",
    "\n",
    "\n",
    "l1 = tk.Label(top,text='Enter a ammount to convert',bg = 'Gray',height = 2).place(x=850,y=200)\n",
    "e1 = tk.Entry(top,textvariable=a,width = 25).place(x = 850,y = 240)\n",
    "\n",
    "b1 = tk.Button(top,text='USD',width=10,command = usd).place(x = 885,y = 265)\n",
    "b2 = tk.Button(top,text='EUR',width=10,command = eur).place(x = 885,y = 295)\n",
    "b3 = tk.Button(top,text='RIAL',width=10,command=rial).place(x=885,y=325)\n",
    "\n",
    "top.mainloop()"
   ]
  },
  {
   "cell_type": "code",
   "execution_count": null,
   "id": "184f0b2c-3eaa-4347-9cdc-07bc9862481a",
   "metadata": {},
   "outputs": [],
   "source": []
  }
 ],
 "metadata": {
  "kernelspec": {
   "display_name": "Python 3 (ipykernel)",
   "language": "python",
   "name": "python3"
  },
  "language_info": {
   "codemirror_mode": {
    "name": "ipython",
    "version": 3
   },
   "file_extension": ".py",
   "mimetype": "text/x-python",
   "name": "python",
   "nbconvert_exporter": "python",
   "pygments_lexer": "ipython3",
   "version": "3.11.7"
  }
 },
 "nbformat": 4,
 "nbformat_minor": 5
}
