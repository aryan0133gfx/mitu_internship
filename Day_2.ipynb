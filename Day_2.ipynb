{
 "cells": [
  {
   "cell_type": "markdown",
   "id": "367c9f77-2de3-4cb9-ab36-ae44d2363915",
   "metadata": {},
   "source": [
    "#### Loops"
   ]
  },
  {
   "cell_type": "markdown",
   "id": "794ae557-c685-4a39-abf6-ebc77e824f26",
   "metadata": {},
   "source": [
    "### while loop"
   ]
  },
  {
   "cell_type": "code",
   "execution_count": 4,
   "id": "ee1ba6a3-4ddb-4d38-a06f-1e9bf767ae5c",
   "metadata": {},
   "outputs": [
    {
     "name": "stdout",
     "output_type": "stream",
     "text": [
      "nigga\n",
      "nigga\n",
      "nigga\n",
      "nigga\n",
      "nigga\n"
     ]
    }
   ],
   "source": [
    "# while loop\n",
    "count = 1\n",
    "\n",
    "while count<=5:\n",
    "    print('nigga')\n",
    "    count = count+1\n",
    "    "
   ]
  },
  {
   "cell_type": "code",
   "execution_count": 8,
   "id": "20a4e893-0fd0-45f2-85a9-741379b7df19",
   "metadata": {},
   "outputs": [
    {
     "name": "stdout",
     "output_type": "stream",
     "text": [
      "5 6 7 8 9 10 11 12 13 14 15 Chal nigh\n"
     ]
    }
   ],
   "source": [
    "#print number from 5 to 15\n",
    "\n",
    "num = 5\n",
    "while num<=15:\n",
    "    print(num,end = ' ')\n",
    "    num = num+1\n",
    "\n",
    "print('Chal nigh')"
   ]
  },
  {
   "cell_type": "code",
   "execution_count": 2,
   "id": "6ac2216a-e1cc-4c5b-80b6-bbffe339fac8",
   "metadata": {},
   "outputs": [
    {
     "name": "stdout",
     "output_type": "stream",
     "text": [
      "addition is:  55\n"
     ]
    }
   ],
   "source": [
    "#print addtion of two number from 1 to 10\n",
    "\n",
    "add = 0\n",
    "count = 1\n",
    "while count<=10:\n",
    "    add = count+add\n",
    "    count+=1\n",
    "\n",
    "print('addition is: ',add)"
   ]
  },
  {
   "cell_type": "code",
   "execution_count": 3,
   "id": "52452628-805b-4680-b5fb-8f8f682423c0",
   "metadata": {},
   "outputs": [
    {
     "name": "stdout",
     "output_type": "stream",
     "text": [
      "11\n"
     ]
    }
   ],
   "source": [
    "print(count)"
   ]
  },
  {
   "cell_type": "code",
   "execution_count": 8,
   "id": "7c7e6dc6-d8a3-4e96-bd76-dc47b8de4ad0",
   "metadata": {},
   "outputs": [
    {
     "name": "stdout",
     "output_type": "stream",
     "text": [
      "addition of all odd number till 20 is  100\n"
     ]
    }
   ],
   "source": [
    "# print the addition of all odd number from 1 to 20\n",
    "\n",
    "count = 1\n",
    "add = 0\n",
    "\n",
    "while count <=20:\n",
    "    add= count + add\n",
    "    count +=2\n",
    "\n",
    "print('addition of all odd number till 20 is ',add)"
   ]
  },
  {
   "cell_type": "code",
   "execution_count": 7,
   "id": "bfef617c-dff1-411c-a444-4d03b914b11a",
   "metadata": {},
   "outputs": [
    {
     "name": "stdout",
     "output_type": "stream",
     "text": [
      "loop ended\n",
      "Factoriyal:  120\n"
     ]
    }
   ],
   "source": [
    "# factorial of 5\n",
    "\n",
    "num = 1\n",
    "fact = 1\n",
    "\n",
    "while num <=5:\n",
    "    fact =  fact*num\n",
    "    num = num + 1\n",
    "\n",
    "else:\n",
    "    print('loop ended')\n",
    "\n",
    "print('Factoriyal: ',fact)"
   ]
  },
  {
   "cell_type": "code",
   "execution_count": 12,
   "id": "0201b679-fbff-44ae-ac28-8ad868fcddd0",
   "metadata": {},
   "outputs": [
    {
     "name": "stdin",
     "output_type": "stream",
     "text": [
      "enter a number 12345\n"
     ]
    },
    {
     "name": "stdout",
     "output_type": "stream",
     "text": [
      "15\n"
     ]
    }
   ],
   "source": [
    "# find the sum of digits in a number\n",
    "#ex:- 12345 ==> 1+2+3+4+5\n",
    "\n",
    "num = int(input('enter a number'))\n",
    "\n",
    "add = 0\n",
    "\n",
    "while num > 0:\n",
    "    rem = num % 10\n",
    "    add = add + rem\n",
    "    num = num // 10\n",
    "\n",
    "print(add)"
   ]
  },
  {
   "cell_type": "markdown",
   "id": "09d7dde3-6a80-4209-ba24-37ed0cfacf38",
   "metadata": {},
   "source": [
    "### for loop"
   ]
  },
  {
   "cell_type": "code",
   "execution_count": 27,
   "id": "970524a1-a6a5-40d9-8cc0-0d99f9dad268",
   "metadata": {},
   "outputs": [
    {
     "name": "stdout",
     "output_type": "stream",
     "text": [
      "12 34 45 21 "
     ]
    }
   ],
   "source": [
    "#basic for loop code\n",
    "\n",
    "for n in 12,34,45,21:\n",
    "    print(n,end = \" \")"
   ]
  },
  {
   "cell_type": "code",
   "execution_count": 25,
   "id": "e05cc886-4e01-4910-b9e6-cb294095e7c8",
   "metadata": {},
   "outputs": [
    {
     "name": "stdout",
     "output_type": "stream",
     "text": [
      "6.0 17.0 22.5 10.5 "
     ]
    }
   ],
   "source": [
    "# print half of numbers in list\n",
    "for n in 12,34,45,21:\n",
    "    print(n/2,end = ' ')"
   ]
  },
  {
   "cell_type": "code",
   "execution_count": 4,
   "id": "56df3c7f-4a9b-4c6d-a302-de6f139814d4",
   "metadata": {},
   "outputs": [
    {
     "data": {
      "text/plain": [
       "[0, 1, 2, 3, 4]"
      ]
     },
     "execution_count": 4,
     "metadata": {},
     "output_type": "execute_result"
    }
   ],
   "source": [
    "# range function\n",
    "\n",
    "list(range(5))\n"
   ]
  },
  {
   "cell_type": "code",
   "execution_count": 5,
   "id": "8fac1c88-4549-4752-8743-1829a0c7d8c1",
   "metadata": {},
   "outputs": [
    {
     "data": {
      "text/plain": [
       "[5, 6, 7, 8, 9, 10, 11, 12, 13, 14, 15, 16, 17, 18, 19]"
      ]
     },
     "execution_count": 5,
     "metadata": {},
     "output_type": "execute_result"
    }
   ],
   "source": [
    "list(range(5,20))"
   ]
  },
  {
   "cell_type": "code",
   "execution_count": 6,
   "id": "fa5714d8-27b7-427f-97d9-7dd60740e7f8",
   "metadata": {},
   "outputs": [
    {
     "data": {
      "text/plain": [
       "[5, 7, 9, 11, 13, 15, 17, 19]"
      ]
     },
     "execution_count": 6,
     "metadata": {},
     "output_type": "execute_result"
    }
   ],
   "source": [
    "list(range(5,20,2))"
   ]
  },
  {
   "cell_type": "code",
   "execution_count": 7,
   "id": "f9962393-33e1-4848-8500-6859a9316714",
   "metadata": {},
   "outputs": [
    {
     "name": "stdout",
     "output_type": "stream",
     "text": [
      "1 2 3 4 5 6 7 8 9 10 "
     ]
    }
   ],
   "source": [
    "# range function in for loop\n",
    "\n",
    "for i in range(1,11):\n",
    "    print(i,end = ' ')"
   ]
  },
  {
   "cell_type": "code",
   "execution_count": 9,
   "id": "9a30ed16-87df-4c41-aaa9-984a9fe8599b",
   "metadata": {},
   "outputs": [
    {
     "name": "stdout",
     "output_type": "stream",
     "text": [
      "100\n"
     ]
    }
   ],
   "source": [
    "# print addition odd number from 1 to 20\n",
    "add=0\n",
    "for n in range(1,21,2):\n",
    "    add = n+add\n",
    "\n",
    "print(add)\n",
    "    \n",
    "    "
   ]
  },
  {
   "cell_type": "code",
   "execution_count": 17,
   "id": "486dbbc3-2b0e-470d-b2a6-94fec79d00be",
   "metadata": {},
   "outputs": [
    {
     "name": "stdout",
     "output_type": "stream",
     "text": [
      "1 gigga nigga\n",
      "2 gigga nigga\n",
      "3 gigga nigga\n",
      "4 gigga nigga\n",
      "5 gigga nigga\n",
      "6 gigga nigga\n",
      "7 gigga nigga\n",
      "8 gigga nigga\n",
      "9 gigga nigga\n",
      "10 gigga nigga\n"
     ]
    }
   ],
   "source": [
    "# print name using for loop\n",
    "\n",
    "for name in range(1,11):\n",
    "    print(name,'gigga nigga')\n"
   ]
  },
  {
   "cell_type": "code",
   "execution_count": 21,
   "id": "92861b39-cf8b-4a4a-9747-6f2242525ccf",
   "metadata": {},
   "outputs": [
    {
     "name": "stdin",
     "output_type": "stream",
     "text": [
      "enter a number:  5\n"
     ]
    },
    {
     "name": "stdout",
     "output_type": "stream",
     "text": [
      "120\n"
     ]
    }
   ],
   "source": [
    "# find factorial of number using user input\n",
    "\n",
    "num = int(input('enter a number: '))\n",
    "\n",
    "fact = 1\n",
    "\n",
    "\n",
    "for n in range(num,0,-1):\n",
    "    fact = fact*n\n",
    "print(fact)"
   ]
  },
  {
   "cell_type": "markdown",
   "id": "0476fbd7-f056-445b-b211-cd60272ead52",
   "metadata": {},
   "source": [
    "#### break statment"
   ]
  },
  {
   "cell_type": "code",
   "execution_count": 35,
   "id": "3af5482c-e4c2-4cee-b5c2-d957f0547518",
   "metadata": {},
   "outputs": [
    {
     "name": "stdout",
     "output_type": "stream",
     "text": [
      "1\n",
      "2\n",
      "3\n",
      "4\n",
      "5\n"
     ]
    }
   ],
   "source": [
    " for n in range (1,10):\n",
    "     print(n)\n",
    "     if n == 5:\n",
    "         break"
   ]
  },
  {
   "cell_type": "markdown",
   "id": "ce7ef749-7e68-4d17-8daf-69ddf5f3d08f",
   "metadata": {},
   "source": [
    "#### continue "
   ]
  },
  {
   "cell_type": "code",
   "execution_count": 37,
   "id": "33b35ada-8f04-4d78-ab71-160fd73136df",
   "metadata": {},
   "outputs": [
    {
     "name": "stdout",
     "output_type": "stream",
     "text": [
      "1\n",
      "2\n",
      "3\n",
      "4\n",
      "6\n",
      "7\n",
      "8\n",
      "9\n"
     ]
    }
   ],
   "source": [
    " for n in range (1,10):\n",
    "     if n == 5:\n",
    "         continue\n",
    "     print(n)"
   ]
  },
  {
   "cell_type": "code",
   "execution_count": 44,
   "id": "f2af83e7-8d08-4a6a-a9e0-cdbe1c130e1a",
   "metadata": {},
   "outputs": [
    {
     "name": "stdout",
     "output_type": "stream",
     "text": [
      "1\n",
      "3\n",
      "5\n",
      "7\n",
      "9\n",
      "11\n"
     ]
    }
   ],
   "source": [
    "# print odd numbers from 1 to 12 using continue\n",
    "\n",
    "for n in range(1,12):\n",
    "    if n %2 == 0:\n",
    "        continue\n",
    "    print(n)"
   ]
  },
  {
   "cell_type": "markdown",
   "id": "a300611c-d5be-4981-a79e-b52c82565fe4",
   "metadata": {},
   "source": [
    "#### pass"
   ]
  },
  {
   "cell_type": "code",
   "execution_count": 45,
   "id": "02278459-b697-49a8-9d32-23ae4432d4cc",
   "metadata": {},
   "outputs": [],
   "source": [
    "num = 5\n",
    "if num>1:\n",
    "    pass"
   ]
  },
  {
   "cell_type": "code",
   "execution_count": 1,
   "id": "0cdb5474-722a-4da5-8cec-f8d7308fce9f",
   "metadata": {},
   "outputs": [
    {
     "name": "stdin",
     "output_type": "stream",
     "text": [
      "Enter the number of rows:  3\n"
     ]
    },
    {
     "name": "stdout",
     "output_type": "stream",
     "text": [
      "*\n",
      "**\n",
      "***\n"
     ]
    }
   ],
   "source": [
    "'''\n",
    "*\n",
    "**\n",
    "***\n",
    "'''\n",
    "\n",
    "row  = int(input('Enter the number of rows: '))\n",
    "\n",
    "for i in range(1,row+1):\n",
    "    for j in range(i):\n",
    "        print(\"*\",end = '')\n",
    "    print()\n",
    "        "
   ]
  },
  {
   "cell_type": "code",
   "execution_count": null,
   "id": "be2ad7fd-4028-41df-b427-74422318cc62",
   "metadata": {},
   "outputs": [],
   "source": []
  }
 ],
 "metadata": {
  "kernelspec": {
   "display_name": "Python 3 (ipykernel)",
   "language": "python",
   "name": "python3"
  },
  "language_info": {
   "codemirror_mode": {
    "name": "ipython",
    "version": 3
   },
   "file_extension": ".py",
   "mimetype": "text/x-python",
   "name": "python",
   "nbconvert_exporter": "python",
   "pygments_lexer": "ipython3",
   "version": "3.11.7"
  }
 },
 "nbformat": 4,
 "nbformat_minor": 5
}
