{
 "cells": [
  {
   "cell_type": "code",
   "execution_count": 1,
   "id": "61e3dbf4-77d1-400f-9184-0eb90125a605",
   "metadata": {},
   "outputs": [],
   "source": [
    "import pandas as pd"
   ]
  },
  {
   "cell_type": "code",
   "execution_count": 3,
   "id": "ef3e8d3b-0ed6-49aa-b147-6134a416f8ae",
   "metadata": {},
   "outputs": [],
   "source": [
    "actual    = ['c','c','nc','c','nc','nc','c','nc','nc']\n",
    "predicted = ['c','nt','nc','c','c','nc','nc','c','nc']"
   ]
  },
  {
   "cell_type": "markdown",
   "id": "c7e05799-455c-4674-99f7-0e9dbad2a1bd",
   "metadata": {},
   "source": [
    "## for cat"
   ]
  },
  {
   "cell_type": "code",
   "execution_count": 4,
   "id": "52e5b8bf-d699-4188-9dd9-38e69447029d",
   "metadata": {},
   "outputs": [],
   "source": [
    "tp = 2  # pred cat ,act cat"
   ]
  },
  {
   "cell_type": "code",
   "execution_count": 5,
   "id": "fec08f75-b1e1-4f58-9a44-859a3097cf04",
   "metadata": {},
   "outputs": [],
   "source": [
    "fp = 2  # pred cat ,act not cat"
   ]
  },
  {
   "cell_type": "code",
   "execution_count": 6,
   "id": "06a7ceeb-9c13-43ef-9b49-4b8d1f129ec1",
   "metadata": {},
   "outputs": [],
   "source": [
    "fn = 2  # pred not cat ,act cat"
   ]
  },
  {
   "cell_type": "code",
   "execution_count": 7,
   "id": "881f7eec-7626-4359-8c5c-a40783f9e45c",
   "metadata": {},
   "outputs": [],
   "source": [
    "tn = 3  # pred not cat , act not cat"
   ]
  },
  {
   "cell_type": "code",
   "execution_count": 8,
   "id": "2507fad4-fd55-4adf-9359-892bd7798a5a",
   "metadata": {},
   "outputs": [],
   "source": [
    "# precision"
   ]
  },
  {
   "cell_type": "code",
   "execution_count": 9,
   "id": "efee764d-0225-4604-b4d9-3c7ddcab6f4d",
   "metadata": {},
   "outputs": [
    {
     "data": {
      "text/plain": [
       "0.5"
      ]
     },
     "execution_count": 9,
     "metadata": {},
     "output_type": "execute_result"
    }
   ],
   "source": [
    "precision = 2/4\n",
    "precision"
   ]
  },
  {
   "cell_type": "code",
   "execution_count": 10,
   "id": "f415d41e-3751-4ea3-88b6-9c041c970c4e",
   "metadata": {},
   "outputs": [
    {
     "data": {
      "text/plain": [
       "0.5"
      ]
     },
     "execution_count": 10,
     "metadata": {},
     "output_type": "execute_result"
    }
   ],
   "source": [
    "# recall\n",
    "\n",
    "recall = 2/4\n",
    "recall"
   ]
  },
  {
   "cell_type": "code",
   "execution_count": 11,
   "id": "b144dbcf-7eed-49f0-a83e-5aef23c21cdb",
   "metadata": {},
   "outputs": [
    {
     "data": {
      "text/plain": [
       "0.5"
      ]
     },
     "execution_count": 11,
     "metadata": {},
     "output_type": "execute_result"
    }
   ],
   "source": [
    "# f-1 score\n",
    "\n",
    "# harmonic mean between precision and recall\n",
    "\n",
    "f1 = (2*precision*recall)/(precision+recall)\n",
    "f1"
   ]
  },
  {
   "cell_type": "code",
   "execution_count": null,
   "id": "575733fe-84e4-4a3f-a6d1-1f5549e1d9ac",
   "metadata": {},
   "outputs": [],
   "source": []
  }
 ],
 "metadata": {
  "kernelspec": {
   "display_name": "Python 3 (ipykernel)",
   "language": "python",
   "name": "python3"
  },
  "language_info": {
   "codemirror_mode": {
    "name": "ipython",
    "version": 3
   },
   "file_extension": ".py",
   "mimetype": "text/x-python",
   "name": "python",
   "nbconvert_exporter": "python",
   "pygments_lexer": "ipython3",
   "version": "3.11.7"
  }
 },
 "nbformat": 4,
 "nbformat_minor": 5
}
