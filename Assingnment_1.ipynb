{
 "cells": [
  {
   "cell_type": "markdown",
   "id": "9c3740af-786d-4b22-86f9-b2add3e5b332",
   "metadata": {},
   "source": [
    "### Assignment_1"
   ]
  },
  {
   "cell_type": "code",
   "execution_count": 5,
   "id": "10d2052d-9adf-4e25-b553-442ee6fee9de",
   "metadata": {},
   "outputs": [
    {
     "name": "stdin",
     "output_type": "stream",
     "text": [
      "Enter a days:  388\n"
     ]
    },
    {
     "name": "stdout",
     "output_type": "stream",
     "text": [
      "days:  388\n",
      "year: 1 weeks: 3 days: 2\n"
     ]
    }
   ],
   "source": [
    "'''\n",
    " Write a program to convert specified days into years, weeks and days.\n",
    " Take\n",
    " user input.\n",
    " Note: Ignore leap year.\n",
    "'''\n",
    "days = int(input('Enter a days: '))\n",
    "year = days//365\n",
    "rem_day = days % 365\n",
    "weeks = rem_day//7\n",
    "day = rem_day%7\n",
    "\n",
    "\n",
    "print('days: ',days)\n",
    "print('year:',year,'weeks:',weeks,'days:',day)"
   ]
  },
  {
   "cell_type": "code",
   "execution_count": 12,
   "id": "05348a04-d316-4a25-b32e-5109d1160682",
   "metadata": {},
   "outputs": [
    {
     "name": "stdin",
     "output_type": "stream",
     "text": [
      "Enter a Basic Salary:  200000\n"
     ]
    },
    {
     "name": "stdout",
     "output_type": "stream",
     "text": [
      "HRA:  70000.0\n",
      "DA:  190000.0\n",
      "Total_salary:  460000.0\n"
     ]
    }
   ],
   "source": [
    "'''\n",
    "Write a Python program to input basiPython salary of an employee and\n",
    " calculate its Gross salary according to following:\n",
    " Basic Salary <= 10000 : HRA = 20%, DA = 80%\n",
    " Basic Salary <= 20000 : HRA = 30%, DA = 90%\n",
    " Basic Salary > 20000 : HRA = 35%, DA = 95%\n",
    " '''\n",
    "basic_sal = int(input('Enter a Basic Salary: '))\n",
    "if basic_sal<= 10000:\n",
    "    HRA = basic_sal * 0.20\n",
    "    print('HRA: ',HRA)\n",
    "    DA = basic_sal * 0.80\n",
    "    print('DA: ',DA)\n",
    "    print('Total salary: ',basic_sal+HRA+DA)\n",
    "elif basic_sal<= 20000:\n",
    "    HRA = basic_sal*0.30\n",
    "    print('HRA: ',HRA)\n",
    "    DA = basic_sal * 0.90\n",
    "    print('DA: ',DA)\n",
    "    print('Total salary: ',basic_sal+HRA+DA)\n",
    "elif basic_sal>2000:\n",
    "    HRA = basic_sal * 0.35\n",
    "    print('HRA: ',HRA)\n",
    "    Da = basic_sal * 0.95\n",
    "    print('DA: ',Da)\n",
    "    print('Total_salary: ',basic_sal+HRA+Da)"
   ]
  },
  {
   "cell_type": "code",
   "execution_count": 13,
   "id": "425349b8-f874-44b1-bd1c-1df51e7859f2",
   "metadata": {},
   "outputs": [
    {
     "name": "stdin",
     "output_type": "stream",
     "text": [
      "Enter electricity unit charges:  42\n"
     ]
    },
    {
     "name": "stdout",
     "output_type": "stream",
     "text": [
      "total bill after adding surcharge =  29.25\n"
     ]
    }
   ],
   "source": [
    "'''\n",
    "Write a Python program to input electricity unit charges and calculate total\n",
    " electricity bill according to the given condition:\n",
    " For first 50 units Rs. 0.50/unit\n",
    " For next 100 units Rs. 0.75/unit\n",
    " For next 100 units Rs. 1.25/unit\n",
    " For unit above 250 Rs. 1.50/unit\n",
    " An additional surcharge of 17% is added to the bill\n",
    " '''\n",
    "units = int(input('Enter electricity unit charges: '))\n",
    "if units <= 50:\n",
    "    total_bill = (50 * 0.50)\n",
    "elif units <= 150:\n",
    "    total_bill = (50 * 0.50) + (units - 50) * 0.75\n",
    "elif units <= 250:\n",
    "    total_bill = (50 * 0.50) + (100 * 0.75) + (units - 150) * 1.25\n",
    "else:\n",
    "    total_bill = (50 * 0.50) + (100 * 0.75) + (100 * 1.25) + (units - 250) * 1.50\n",
    "\n",
    "surcharge = total_bill * 0.17\n",
    "total_bill = total_bill + surcharge\n",
    "print(\"total bill after adding surcharge = \",total_bill)"
   ]
  },
  {
   "cell_type": "code",
   "execution_count": 17,
   "id": "d0b25f6f-bce0-4498-b784-06c1f4d67f74",
   "metadata": {},
   "outputs": [
    {
     "name": "stdout",
     "output_type": "stream",
     "text": [
      "1\n",
      "22\n",
      "333\n",
      "4444\n",
      "55555\n"
     ]
    }
   ],
   "source": [
    "'''\n",
    "Write a Python program to print the given number patterns.\n",
    " 1\n",
    " 2 2\n",
    " 3 33\n",
    " 4 444\n",
    " 5 5555\n",
    " '''\n",
    "for i in range(1,6):\n",
    "    for j in range(i):\n",
    "        print(i,end = '')\n",
    "    print()"
   ]
  },
  {
   "cell_type": "code",
   "execution_count": 18,
   "id": "f63d4eea-8145-46f3-a790-606a359d5d5f",
   "metadata": {},
   "outputs": [
    {
     "name": "stdin",
     "output_type": "stream",
     "text": [
      "Enter the number 55\n"
     ]
    },
    {
     "name": "stdout",
     "output_type": "stream",
     "text": [
      "25\n"
     ]
    }
   ],
   "source": [
    "'''\n",
    "Write a Python program to calculate product of digits of a number. Read\n",
    " value of n from user.\n",
    " '''\n",
    "num = int(input(\"Enter the number\"))\n",
    "mul = 1\n",
    "while num > 0:\n",
    "    rem = num % 10\n",
    "    mul = mul * rem\n",
    "    num = num // 10\n",
    "else:\n",
    "    print(mul)"
   ]
  },
  {
   "cell_type": "code",
   "execution_count": 21,
   "id": "c2580e08-4905-4610-8185-f2733b9dd731",
   "metadata": {},
   "outputs": [
    {
     "name": "stdout",
     "output_type": "stream",
     "text": [
      "['Hello', 'World']\n",
      "['HELLO', 'WORLD']\n",
      "124\n",
      "['World', 23.45, 'Hello', 12, 67, 45]\n",
      "[45, 67, 12, 23.45, 'World']\n",
      "[45, 67, 12, 23.45, 'World', 36]\n"
     ]
    },
    {
     "data": {
      "text/plain": [
       "6"
      ]
     },
     "execution_count": 21,
     "metadata": {},
     "output_type": "execute_result"
    }
   ],
   "source": [
    "'''\n",
    "Create a list of elements like: x = [45, 67, 12, ‘Hello’, 23.45, ‘World’] and\n",
    "perform following\n",
    "operations\n",
    "'''\n",
    "\n",
    "x = [45, 67, 12, 'Hello', 23.45, 'World']\n",
    "#Extract only string values from this list.\n",
    "x1 = []\n",
    "for n in x:\n",
    "    if type(n) == str:\n",
    "        x1.append(n)\n",
    "print(x1)\n",
    "#Create a new list with strings in upper case.\n",
    "x2 = []\n",
    "for n in x:\n",
    "    if type(n) == str:\n",
    "        x2.append(n.upper())\n",
    "print(x2)\n",
    "#Find the addition of integer values\n",
    "sum = 0\n",
    "for n in x:\n",
    "    if type(n) == int:\n",
    "        sum = sum + n\n",
    "print(sum)\n",
    "\n",
    "# Check that the value 56 is present in it or not\n",
    "for n in x:\n",
    "    if n == 56:\n",
    "        print('present')\n",
    "        break\n",
    "\n",
    "#Print the list in reverse order.\n",
    "print(x[::-1])\n",
    "\n",
    "#Delete the string ‘Hello’ from it.\n",
    "del x[3]\n",
    "print(x)\n",
    "\n",
    "#Insert a new value of 36 at 5th position in list.\n",
    "x.insert(5,36)\n",
    "print(x)\n",
    "\n",
    "#Count total number of elements in list now.\n",
    "print(len(x))\n",
    "\n",
    "#9. Extract the values from 2nd index to 5th index.\n",
    "print(x[2],x[5])\n",
    "\n",
    "#10. Append [34, ‘Pune’] to this list.\n",
    "x.append(34)\n",
    "x.append(\"Pune\")\n",
    "print(x)\n",
    "\n",
    "#11. Delete the last element from list.\n",
    "del x[-1]\n",
    "print(x)"
   ]
  },
  {
   "cell_type": "code",
   "execution_count": 22,
   "id": "cb94f63a-8e0e-4fc5-b625-c6296ec5ba38",
   "metadata": {},
   "outputs": [
    {
     "name": "stdout",
     "output_type": "stream",
     "text": [
      "[2.3, 6.3, 12.1, 14.6, 32.6]\n",
      "False\n",
      "{32.6, 2.3, 6.3, 12.1, 14.6}\n"
     ]
    }
   ],
   "source": [
    "'''\n",
    " Create a tuple of elements with 5 float values in it and perform following\n",
    " operations\n",
    " '''\n",
    "tup1 = (2.3,6.3,14.6,12.1,32.6)\n",
    "#1. Print the data in sorted manner.\n",
    "print(sorted(tup1))\n",
    "#2. Check to see that the element 50 is present in it.\n",
    "print(50 in tup1)\n",
    "#3. Convert this tuple in set.\n",
    "print(set(tup1))"
   ]
  },
  {
   "cell_type": "code",
   "execution_count": 27,
   "id": "66c7babb-f974-410f-a6f3-e511b0d964c9",
   "metadata": {},
   "outputs": [
    {
     "name": "stdout",
     "output_type": "stream",
     "text": [
      "king\n",
      "{'a': 'apple', 'b': 'ball', 'c': 'cat', 'd': 'doll', 'k': 'king', 'z': 'zebra'}\n",
      "{'a': 'apple', 'b': 'ball', 'c': 'cat', 'd': 'dog', 'k': 'king', 'z': 'zebra'}\n",
      "dict_values(['apple', 'ball', 'cat', 'dog', 'king', 'zebra'])\n",
      "6\n"
     ]
    }
   ],
   "source": [
    "'''\n",
    "Create a dictionary of elements: {‘a’: ‘apple’, ‘b’: ‘ball’, ‘c’: ‘cat’, ‘d’: ‘doll’, ‘k’:\n",
    " ‘king’} and\n",
    " perform following operations\n",
    " '''\n",
    "dict1 = {'a': 'apple', 'b': 'ball', 'c': 'cat', 'd': 'doll', 'k':\n",
    " 'king'}\n",
    "\n",
    "# 1. Access the data at key ‘k’.\n",
    "print(dict1['k'])\n",
    "# 2. Add a new values ‘z’: ‘zebra’\n",
    "dict1['z'] = \"zebra\"\n",
    "print(dict1)\n",
    "#3. Replace the contents of ‘d’ as ‘dog’\n",
    "dict1['d'] = \"dog\"\n",
    "print(dict1)\n",
    "#4. Print all the values from this dictionary.\n",
    "print(dict1.values())\n",
    "#5. Find the length of this dictionary.\n",
    "print(len(dict1))\n"
   ]
  },
  {
   "cell_type": "code",
   "execution_count": 30,
   "id": "9ac3c47b-dc59-4b9b-958f-6f67d886650c",
   "metadata": {},
   "outputs": [
    {
     "name": "stdout",
     "output_type": "stream",
     "text": [
      "[98, 87, 76, 68, 55, 45, 24, 12]\n",
      "Second largest number is  87\n"
     ]
    }
   ],
   "source": [
    "'''\n",
    " Write a program to find the second largest element in a list.\n",
    " '''\n",
    "\n",
    "L1 = [12,45,24,68,55,87,98,76]\n",
    "L2 = sorted(L1, reverse = True)\n",
    "print(L2)\n",
    "second_largest = L2[1]\n",
    "print(\"Second largest number is \",second_largest)"
   ]
  },
  {
   "cell_type": "code",
   "execution_count": 32,
   "id": "a57d3dbb-03d6-4323-8010-582e3d1ec00f",
   "metadata": {},
   "outputs": [
    {
     "name": "stdout",
     "output_type": "stream",
     "text": [
      "['silver', 'gold', 'platinum', 'lead', 'iron', 'aluminium']\n"
     ]
    }
   ],
   "source": [
    "'''\n",
    "This is a list of some metallic elements.\n",
    " metals = [ 'silver','gold', ... ]\n",
    " Make a new list that is almost identical to the metals list: the new\n",
    " contains the same items, in the same order, except that it does NOT\n",
    " contain the item 'copper'\n",
    "'''\n",
    "metals = [\"silver\",\"gold\",\"platinum\",\"copper\",\"lead\",\"iron\",\"aluminium\"]\n",
    "metals1 = []\n",
    "for n in metals:\n",
    "    if n != \"copper\":\n",
    "        metals1.append(n)\n",
    "\n",
    "print(metals1)"
   ]
  }
 ],
 "metadata": {
  "kernelspec": {
   "display_name": "Python 3 (ipykernel)",
   "language": "python",
   "name": "python3"
  },
  "language_info": {
   "codemirror_mode": {
    "name": "ipython",
    "version": 3
   },
   "file_extension": ".py",
   "mimetype": "text/x-python",
   "name": "python",
   "nbconvert_exporter": "python",
   "pygments_lexer": "ipython3",
   "version": "3.11.7"
  }
 },
 "nbformat": 4,
 "nbformat_minor": 5
}
