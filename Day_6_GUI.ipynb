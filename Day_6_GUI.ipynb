{
 "cells": [
  {
   "cell_type": "markdown",
   "id": "891e500d-4e36-4963-b9d8-ac883afaf468",
   "metadata": {},
   "source": [
    "# GUI"
   ]
  },
  {
   "cell_type": "code",
   "execution_count": 2,
   "id": "3d54864f-afdf-4e8f-970e-9722a7035e11",
   "metadata": {},
   "outputs": [],
   "source": [
    "import tkinter as tk"
   ]
  },
  {
   "cell_type": "code",
   "execution_count": 30,
   "id": "1404efee-6a02-4244-899c-e0f40b4a9b6d",
   "metadata": {},
   "outputs": [],
   "source": [
    "top = tk.Tk()\n",
    "\n",
    "top.title('Tupac')\n",
    "top.geometry('500x400')\n",
    "\n",
    "b1 =  tk.Button(top,text = 'click me nigga',bg = 'orange').grid(column = 0,row = 1)\n",
    "s\n",
    "e1 = tk.Entry(top).grid(column = 1,row = 1)\n",
    "t1 = tk.Text(top).grid(column = 2,row = 1)\n",
    "l1 = tk.Label(top,text = 'Wellcome',font = ('Gill Sans',50)).grid(column=3,row=1)\n",
    "\n",
    "top.mainloop()"
   ]
  }
 ],
 "metadata": {
  "kernelspec": {
   "display_name": "Python 3 (ipykernel)",
   "language": "python",
   "name": "python3"
  },
  "language_info": {
   "codemirror_mode": {
    "name": "ipython",
    "version": 3
   },
   "file_extension": ".py",
   "mimetype": "text/x-python",
   "name": "python",
   "nbconvert_exporter": "python",
   "pygments_lexer": "ipython3",
   "version": "3.11.7"
  }
 },
 "nbformat": 4,
 "nbformat_minor": 5
}
