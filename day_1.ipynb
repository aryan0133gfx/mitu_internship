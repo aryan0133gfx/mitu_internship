{
 "cells": [
  {
   "cell_type": "code",
   "execution_count": null,
   "id": "7a6a906a-9750-4392-a9e9-f1ffd01c4497",
   "metadata": {},
   "outputs": [],
   "source": []
  },
  {
   "cell_type": "code",
   "execution_count": 6,
   "id": "9eb9ba63-6eb1-4767-b679-d2b0761f6871",
   "metadata": {},
   "outputs": [
    {
     "name": "stdin",
     "output_type": "stream",
     "text": [
      "Enter a number:  5\n"
     ]
    },
    {
     "name": "stdout",
     "output_type": "stream",
     "text": [
      "number is slave\n"
     ]
    }
   ],
   "source": [
    "#number is grater than 50 or not\n",
    "\n",
    "num = int(input('Enter a number: '))\n",
    "if num  > 50:\n",
    "    print('Number is king')\n",
    "else:\n",
    "    print('number is slave')"
   ]
  },
  {
   "cell_type": "code",
   "execution_count": 9,
   "id": "22ccdbf2-ca13-4b82-bf1e-38a6cb634d92",
   "metadata": {},
   "outputs": [
    {
     "name": "stdin",
     "output_type": "stream",
     "text": [
      "enter a number:  45\n"
     ]
    },
    {
     "name": "stdout",
     "output_type": "stream",
     "text": [
      "number is +ve\n"
     ]
    }
   ],
   "source": [
    "# number is positive or nigga\n",
    "\n",
    "num  =  int(input('enter a number: '))\n",
    "if num>0:\n",
    "    print('number is +ve')\n",
    "else:\n",
    "    print('number is -ve')"
   ]
  },
  {
   "cell_type": "code",
   "execution_count": 11,
   "id": "99261624-74d7-484f-a3b3-952e8ed87746",
   "metadata": {},
   "outputs": [
    {
     "name": "stdin",
     "output_type": "stream",
     "text": [
      "enter a number:  0\n"
     ]
    },
    {
     "name": "stdout",
     "output_type": "stream",
     "text": [
      "Sorry number is zero\n"
     ]
    }
   ],
   "source": [
    "## same que but for zero\n",
    "\n",
    "num  =  int(input('enter a number: '))\n",
    "\n",
    "if num>0:\n",
    "    print('number is +ve')\n",
    "elif num == 0:\n",
    "    print('Sorry number is zero')\n",
    "else:\n",
    "    print('number is -ve')"
   ]
  },
  {
   "cell_type": "markdown",
   "id": "8de96db9-221d-4f3c-a691-72498abc3818",
   "metadata": {},
   "source": [
    "### number is odd or even\n",
    "\n",
    "num  =  int(input('enter a number: '))\n",
    "\n",
    "if num % 2 == 0:\n",
    "    print('Number is even')\n",
    "else:\n",
    "    print('Number is odd')"
   ]
  },
  {
   "cell_type": "code",
   "execution_count": 15,
   "id": "ccea4396-4b56-4df9-a3da-bfefc1c12e43",
   "metadata": {},
   "outputs": [
    {
     "name": "stdout",
     "output_type": "stream",
     "text": [
      "booooo\n"
     ]
    }
   ],
   "source": [
    "# timepass if\n",
    "\n",
    "a = 19\n",
    "if a:\n",
    "    print('booooo')"
   ]
  },
  {
   "cell_type": "code",
   "execution_count": 18,
   "id": "63c49b28-5ef1-4f36-88be-12c89c1cfb69",
   "metadata": {},
   "outputs": [
    {
     "name": "stdin",
     "output_type": "stream",
     "text": [
      "enter a number:  100\n"
     ]
    },
    {
     "name": "stdout",
     "output_type": "stream",
     "text": [
      "ohh yess\n"
     ]
    }
   ],
   "source": [
    "# number is between 50 and 150 \n",
    "\n",
    "num  =  int(input('enter a number: '))\n",
    "if num>50:\n",
    "    if num<150:\n",
    "        print(\"ohh yess\")\n",
    "    else:\n",
    "        print('no no no')\n",
    "else:\n",
    "    print('again no')"
   ]
  },
  {
   "cell_type": "code",
   "execution_count": 19,
   "id": "57f9b6ce-b0cd-4dff-9737-18e8abe6b92a",
   "metadata": {},
   "outputs": [
    {
     "name": "stdin",
     "output_type": "stream",
     "text": [
      "enter a number:  123\n"
     ]
    },
    {
     "name": "stdout",
     "output_type": "stream",
     "text": [
      "Oh yesss\n"
     ]
    }
   ],
   "source": [
    "# using AND same que.\n",
    "\n",
    "num  =  int(input('enter a number: '))\n",
    "if num>50 and num <150:\n",
    "    print('Oh yesss')\n",
    "else:\n",
    "    print('no no no')"
   ]
  },
  {
   "cell_type": "code",
   "execution_count": 23,
   "id": "b183aae2-59e5-4151-819f-47b06cae58da",
   "metadata": {},
   "outputs": [
    {
     "name": "stdin",
     "output_type": "stream",
     "text": [
      "Enter a pur cost 50\n",
      "Enter a selling cost 25\n"
     ]
    },
    {
     "name": "stdout",
     "output_type": "stream",
     "text": [
      "your making loss by 25\n"
     ]
    }
   ],
   "source": [
    "#profit & loss\n",
    "\n",
    "pur_cost = int(input('Enter a pur cost'))\n",
    "sell_cost = int(input('Enter a selling cost'))\n",
    "\n",
    "if pur_cost > sell_cost:\n",
    "    print('your making loss by',pur_cost - sell_cost)\n",
    "elif pur_cost == sell_cost:\n",
    "    print('You are not making profit or loss')\n",
    "else:\n",
    "    print('your making profit by',sell_cost - pur_cost)"
   ]
  },
  {
   "cell_type": "code",
   "execution_count": 31,
   "id": "cdac8b62-8f79-4495-b584-e2fb0ab344db",
   "metadata": {},
   "outputs": [
    {
     "name": "stdin",
     "output_type": "stream",
     "text": [
      "enter a number1:  12\n",
      "enter a number2:  45\n",
      "enter a number3:  2\n"
     ]
    },
    {
     "name": "stdout",
     "output_type": "stream",
     "text": [
      "number2 is greater\n"
     ]
    }
   ],
   "source": [
    "# find largest number from 3 without AND\n",
    "\n",
    "n1 = int(input('enter a number1: '))\n",
    "n2 = int(input('enter a number2: '))\n",
    "n3 = int(input('enter a number3: '))\n",
    "\n",
    "if n1>n2:\n",
    "    if n1>n3:\n",
    "        print('number1 is greater')\n",
    "elif n2>n1:\n",
    "    if n2>n3:\n",
    "        print('number2 is greater')\n",
    "    else:\n",
    "        print('number3 is greater')\n"
   ]
  },
  {
   "cell_type": "code",
   "execution_count": 46,
   "id": "ab989bac-7d3b-421d-8acc-530716ccfb51",
   "metadata": {},
   "outputs": [
    {
     "name": "stdin",
     "output_type": "stream",
     "text": [
      "Enter a year:  1800\n"
     ]
    },
    {
     "name": "stdout",
     "output_type": "stream",
     "text": [
      "leap year\n"
     ]
    }
   ],
   "source": [
    "# year leap or not without using AND\n",
    "\n",
    "year = int(input('Enter a year: '))\n",
    "\n",
    "if year % 4 == 0:\n",
    "    if year%100 == 0:\n",
    "        if year%400:\n",
    "            print(\"leap year\")\n",
    "        else:\n",
    "            print('not leap year')\n",
    "    else:\n",
    "        print('leap')\n",
    "else:\n",
    "    print('not leap')"
   ]
  },
  {
   "cell_type": "code",
   "execution_count": 51,
   "id": "57a8f64b-fe43-4875-a80f-31497f2645ae",
   "metadata": {},
   "outputs": [
    {
     "name": "stdin",
     "output_type": "stream",
     "text": [
      "Enter your mark:  36\n"
     ]
    },
    {
     "name": "stdout",
     "output_type": "stream",
     "text": [
      "pass\n"
     ]
    }
   ],
   "source": [
    "# >60 first\n",
    "# >50 second\n",
    "# >40 third\n",
    "# >35 pass\n",
    "#<=35 fail\n",
    "\n",
    "marks = int(input('Enter your mark: '))\n",
    "\n",
    "if marks >= 60:\n",
    "    print('first class')\n",
    "elif marks >= 50:\n",
    "    print('Second class')\n",
    "elif marks >=40:\n",
    "    print('third class')\n",
    "elif marks>=35:\n",
    "    print('pass')\n",
    "else:\n",
    "    print(\"fail\")"
   ]
  },
  {
   "cell_type": "code",
   "execution_count": 58,
   "id": "af841768-048e-4b14-9567-238616f7a6a8",
   "metadata": {},
   "outputs": [
    {
     "name": "stdin",
     "output_type": "stream",
     "text": [
      "Enter a number:  34\n"
     ]
    },
    {
     "name": "stdout",
     "output_type": "stream",
     "text": [
      "Menu:\n",
      "1.square\n",
      "2.cube\n",
      "3.check +ve or -ve\n"
     ]
    },
    {
     "name": "stdin",
     "output_type": "stream",
     "text": [
      "Enter your choice:  2\n"
     ]
    },
    {
     "name": "stdout",
     "output_type": "stream",
     "text": [
      "cube 39304\n"
     ]
    }
   ],
   "source": [
    "# menu driven\n",
    "\n",
    "'''\n",
    "based on choice it will do square,cube or +ve or-ve\n",
    "'''\n",
    "num = int(input('Enter a number: '))\n",
    "print('Menu:\\n1.square\\n2.cube\\n3.check +ve or -ve')\n",
    "\n",
    "choice = int(input('Enter your choice: '))\n",
    "\n",
    "if choice == 1:\n",
    "    print('Square: ',num*num)\n",
    "elif choice == 2:\n",
    "    print('cube',num**3)\n",
    "elif choice == 3:\n",
    "    if num>0:\n",
    "        print('number +ve')\n",
    "    else:\n",
    "        print('number is -ve')\n",
    "else:\n",
    "    print('invalid')"
   ]
  },
  {
   "cell_type": "code",
   "execution_count": 63,
   "id": "35dbd5fb-6b7f-459d-96a5-6b891a8e2abe",
   "metadata": {},
   "outputs": [
    {
     "name": "stdin",
     "output_type": "stream",
     "text": [
      "enter a number one:  2\n",
      "enter a number two:  1\n"
     ]
    },
    {
     "name": "stdout",
     "output_type": "stream",
     "text": [
      "menu:\n",
      "1.add\n",
      "2.sub\n",
      "3.floor div\n",
      "4.greater\n"
     ]
    },
    {
     "name": "stdin",
     "output_type": "stream",
     "text": [
      "enter your choice:  4\n"
     ]
    },
    {
     "name": "stdout",
     "output_type": "stream",
     "text": [
      "num1 is greater\n"
     ]
    }
   ],
   "source": [
    "#read 2 number and perform add,sub,floor div,which one is greater\n",
    "\n",
    "num1 = int(input('enter a number one: '))\n",
    "num2 = int(input('enter a number two: '))\n",
    "\n",
    "print('menu:\\n1.add\\n2.sub\\n3.floor div\\n4.greater')\n",
    "choice = int(input('enter your choice: '))\n",
    "\n",
    "if choice == 1:\n",
    "    print('Addition: ',num1+num2)\n",
    "elif choice == 2:\n",
    "    print('substraction:',num1-num2)\n",
    "elif choice == 3:\n",
    "    print('Floor division: ',num1//num2)\n",
    "    \n",
    "elif choice == 4:\n",
    "    if num1>num2:\n",
    "        print('num1 is greater')\n",
    "    else:\n",
    "        print('num2 is greater')\n",
    "else:\n",
    "    print('invalid choice')"
   ]
  },
  {
   "cell_type": "code",
   "execution_count": null,
   "id": "58d2b181-5c08-443b-b634-7234281714b2",
   "metadata": {},
   "outputs": [],
   "source": []
  }
 ],
 "metadata": {
  "kernelspec": {
   "display_name": "Python 3 (ipykernel)",
   "language": "python",
   "name": "python3"
  },
  "language_info": {
   "codemirror_mode": {
    "name": "ipython",
    "version": 3
   },
   "file_extension": ".py",
   "mimetype": "text/x-python",
   "name": "python",
   "nbconvert_exporter": "python",
   "pygments_lexer": "ipython3",
   "version": "3.11.7"
  }
 },
 "nbformat": 4,
 "nbformat_minor": 5
}
