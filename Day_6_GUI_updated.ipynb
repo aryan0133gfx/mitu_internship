{
 "cells": [
  {
   "cell_type": "markdown",
   "id": "891e500d-4e36-4963-b9d8-ac883afaf468",
   "metadata": {},
   "source": [
    "# GUI"
   ]
  },
  {
   "cell_type": "code",
   "execution_count": 19,
   "id": "3d54864f-afdf-4e8f-970e-9722a7035e11",
   "metadata": {},
   "outputs": [],
   "source": [
    "import tkinter as tk\n",
    "from tkinter import BooleanVar\n",
    "from tkinter.ttk import *\n",
    "from tkinter import scrolledtext\n",
    "from tkinter import messagebox"
   ]
  },
  {
   "cell_type": "code",
   "execution_count": 23,
   "id": "1404efee-6a02-4244-899c-e0f40b4a9b6d",
   "metadata": {},
   "outputs": [],
   "source": [
    "top = tk.Tk()\n",
    "\n",
    "top.title('Tupac')\n",
    "top.geometry('500x400')\n",
    "\n",
    "b1 =  tk.Button(top,text = 'click me nigga',bg = 'orange').grid(column = 0,row = 1)\n",
    "\n",
    "e1 = tk.Entry(top).grid(column = 1,row = 1)\n",
    "t1 = tk.Text(top).grid(column = 2,row = 1)\n",
    "l1 = tk.Label(top,text = 'Wellcome',font = ('Gill Sans',50)).grid(column=3,row=1)\n",
    "\n",
    "# combo box\n",
    "comdo = Combobox(top)\n",
    "comdo['values'] = [1,2,3,4,'Next']\n",
    "comdo.current(2)\n",
    "comdo.grid(column = 2,row=4)\n",
    "# check button\n",
    "ch = BooleanVar()\n",
    "ch.set(True)\n",
    "cb = Checkbutton(top,text = 'Done',var = ch,width = 30).grid(column=0, row=0)\n",
    "\n",
    "#Scrolled text\n",
    "st = scrolledtext.ScrolledText(top,height=10,width=40).grid(column=3,row=3)\n",
    "\n",
    "top.mainloop()"
   ]
  },
  {
   "cell_type": "code",
   "execution_count": 25,
   "id": "103008c0-49a5-446a-9664-590bee28d3e8",
   "metadata": {},
   "outputs": [],
   "source": [
    "# square of a number\n",
    "\n",
    "top = tk.Tk()\n",
    "top.title('Square')\n",
    "top.geometry('500x400')\n",
    "\n",
    "a = tk.IntVar()\n",
    "\n",
    "def square():\n",
    "    num = a.get()\n",
    "    sq = num*num\n",
    "    result =  tk.Label(top,text = 'Square is:%i'%sq).place(x= 120,y = 200)\n",
    "    messagebox.showinfo('result','square is %i'%sq)\n",
    "\n",
    "l = tk.Label(top,text = 'input').place(x = 20,y = 100)\n",
    "e = tk.Entry(top,textvariable = a).place(x= 100,y = 100)\n",
    "b= tk.Button(top,text = 'Submit',bg = 'Orange',command = square).place(x = 120,y = 150)\n",
    "\n",
    "top.mainloop()"
   ]
  },
  {
   "cell_type": "code",
   "execution_count": 69,
   "id": "a1302d24-1ad7-4a32-8d5f-63d6299eea90",
   "metadata": {},
   "outputs": [],
   "source": [
    "# create add,sub,mul,div of  2 number\n",
    "\n",
    "top = tk.Tk()\n",
    "top.title('no name')\n",
    "top.geometry('1920x1080')\n",
    "a = tk.IntVar()\n",
    "b = tk.IntVar()\n",
    "\n",
    "def add():\n",
    "    num1 = a.get()\n",
    "    num2 = b.get()\n",
    "    sum = num1 + num2\n",
    "    messagebox.showinfo('res','Addition is %i'%sum)\n",
    "\n",
    "def sub():\n",
    "    num1 = a.get()\n",
    "    num2 = b.get()\n",
    "    sub = num1 - num2 \n",
    "    messagebox.showinfo('res','Substraction is %i'%sub)\n",
    "def mul():\n",
    "    num1 = a.get()\n",
    "    num2 = b.get()\n",
    "    res = num1 * num2 \n",
    "    messagebox.showinfo('res','multiplication is %i'%res)\n",
    "\n",
    "def div():\n",
    "    num1 = a.get()\n",
    "    num2 = b.get()\n",
    "    res = num1 / num2 \n",
    "    messagebox.showinfo('res','Division is %i'%res)\n",
    "\n",
    "l1 = tk.Label(top,text = 'input1').place(x = 820,y = 300)\n",
    "e1 = tk.Entry(top,textvariable = a).place(x= 900,y = 300)\n",
    "\n",
    "l2 = tk.Label(top,text = 'input2').place(x = 820,y= 330)\n",
    "e2 = tk.Entry(top,textvariable = b).place(x = 900,y = 330)\n",
    "\n",
    "\n",
    "b1 = tk.Button(top,text = 'addition',bg = 'Orange',command = add,cursor = 'hand1',width = 10).place(x = 920,y = 350)\n",
    "b2 = tk.Button(top,text = 'substraction',bg = 'red',command = sub,cursor = 'hand1',width = 10).place(x = 920,y = 380)\n",
    "b3 = tk.Button(top,text = 'multiplication',bg = 'Blue',command = mul,cursor = 'hand1',width = 10).place(x = 920,y = 410)\n",
    "b4 = tk.Button(top,text = 'division',bg = 'Green',command = div,cursor = 'hand1',width = 10).place(x = 920,y = 440)\n",
    "\n",
    "top.mainloop()"
   ]
  },
  {
   "cell_type": "code",
   "execution_count": null,
   "id": "2389bd8f-2b7a-4bd6-8cdd-509efb3590bc",
   "metadata": {},
   "outputs": [],
   "source": []
  },
  {
   "cell_type": "code",
   "execution_count": null,
   "id": "740c063e-ffc5-4d2c-a3da-a0f9585c6a73",
   "metadata": {},
   "outputs": [],
   "source": []
  }
 ],
 "metadata": {
  "kernelspec": {
   "display_name": "Python 3 (ipykernel)",
   "language": "python",
   "name": "python3"
  },
  "language_info": {
   "codemirror_mode": {
    "name": "ipython",
    "version": 3
   },
   "file_extension": ".py",
   "mimetype": "text/x-python",
   "name": "python",
   "nbconvert_exporter": "python",
   "pygments_lexer": "ipython3",
   "version": "3.11.7"
  }
 },
 "nbformat": 4,
 "nbformat_minor": 5
}
