{
 "cells": [
  {
   "cell_type": "markdown",
   "id": "342e4651-093b-4132-939a-76dae2025f93",
   "metadata": {},
   "source": [
    "# oop"
   ]
  },
  {
   "cell_type": "markdown",
   "id": "89f600b0-223f-4ca0-8da0-67330dbcc747",
   "metadata": {},
   "source": [
    "### class"
   ]
  },
  {
   "cell_type": "code",
   "execution_count": 1,
   "id": "88ce2844-c82e-4cec-8b87-a3c43087a954",
   "metadata": {},
   "outputs": [],
   "source": [
    "class Employee():  #creating class\n",
    "    pass"
   ]
  },
  {
   "cell_type": "code",
   "execution_count": 3,
   "id": "ef6129d6-6ffb-4dbf-8a49-f33a8bb108d0",
   "metadata": {},
   "outputs": [],
   "source": [
    "emp1 = Employee() # creating instance of class / object\n",
    "emp2 = Employee()"
   ]
  },
  {
   "cell_type": "code",
   "execution_count": 4,
   "id": "7a5f1f30-f473-44e9-870d-dda0904f6134",
   "metadata": {},
   "outputs": [
    {
     "name": "stdout",
     "output_type": "stream",
     "text": [
      "<__main__.Employee object at 0x000001CDC4FA0B90>\n",
      "<__main__.Employee object at 0x000001CDC4A8E010>\n"
     ]
    }
   ],
   "source": [
    "print(emp1)\n",
    "print(emp2)"
   ]
  },
  {
   "cell_type": "code",
   "execution_count": 11,
   "id": "3b457707-261d-4643-94ae-e111eaad40f5",
   "metadata": {},
   "outputs": [],
   "source": [
    "# instance variable\n",
    "emp1.first = 'Aryan'\n",
    "emp1.last = 'Jadhav'\n",
    "emp1.salary =  50000\n",
    "\n",
    "emp2.first = 'Karan'\n",
    "emp2.last = 'Perdeshi'\n",
    "emp2.salary = 40000"
   ]
  },
  {
   "cell_type": "code",
   "execution_count": 12,
   "id": "450ace7f-4e5d-4537-9419-4af755ba57ab",
   "metadata": {},
   "outputs": [
    {
     "name": "stdout",
     "output_type": "stream",
     "text": [
      "Aryan\n"
     ]
    }
   ],
   "source": [
    "print(emp1.first)"
   ]
  },
  {
   "cell_type": "code",
   "execution_count": 9,
   "id": "09ccc76c-1fd8-4f2d-87be-191e08ebfb92",
   "metadata": {},
   "outputs": [
    {
     "name": "stdout",
     "output_type": "stream",
     "text": [
      "40000\n"
     ]
    }
   ],
   "source": [
    "print(emp2.salary),"
   ]
  },
  {
   "cell_type": "code",
   "execution_count": 43,
   "id": "de4c4158-7678-45cc-aaaa-28f9134241b7",
   "metadata": {},
   "outputs": [],
   "source": [
    "# using Function (init) method\n",
    "class Employee1():\n",
    "    def __init__(self,first,last,salary):\n",
    "        self.first = first\n",
    "        self.last = last\n",
    "        self.salary = salary\n",
    "    def show(self):\n",
    "        print(self.first + ' ' + 'ok')"
   ]
  },
  {
   "cell_type": "code",
   "execution_count": 44,
   "id": "0728b9bb-3abd-4c5d-aef9-20b3e2baf055",
   "metadata": {},
   "outputs": [],
   "source": [
    "emp1 = Employee1('aryan','Jadhav',50000)"
   ]
  },
  {
   "cell_type": "code",
   "execution_count": 20,
   "id": "37d90917-09c2-4381-a835-72c886218836",
   "metadata": {},
   "outputs": [
    {
     "name": "stdout",
     "output_type": "stream",
     "text": [
      "aryan\n"
     ]
    }
   ],
   "source": [
    "print(emp1.first)"
   ]
  },
  {
   "cell_type": "code",
   "execution_count": 40,
   "id": "173a50ef-23a4-48a8-bad2-292244778ec6",
   "metadata": {},
   "outputs": [
    {
     "name": "stdout",
     "output_type": "stream",
     "text": [
      "aryan ok\n"
     ]
    }
   ],
   "source": [
    "emp1.show()"
   ]
  },
  {
   "cell_type": "code",
   "execution_count": 39,
   "id": "fb25b0b7-a1c9-4dc8-9e32-8b7e19970563",
   "metadata": {},
   "outputs": [
    {
     "name": "stdout",
     "output_type": "stream",
     "text": [
      "Alpit ok\n"
     ]
    }
   ],
   "source": [
    "emp2 = Employee1('Alpit','gadhve',2000)\n",
    "emp2.show()"
   ]
  },
  {
   "cell_type": "markdown",
   "id": "ac49ad36-4bc5-4fca-954d-c20f5284a735",
   "metadata": {},
   "source": [
    "### Encapsulation\n",
    "\n"
   ]
  },
  {
   "cell_type": "code",
   "execution_count": 56,
   "id": "86c39e88-8615-4088-890f-28959249e121",
   "metadata": {},
   "outputs": [],
   "source": [
    "class Employee():\n",
    "    def __init__(self,first,last,salary):\n",
    "        self.first = first\n",
    "        self.last = last\n",
    "        self.__salary = salary # Private variable\n",
    "    def show(self):\n",
    "        print(self.__salary)"
   ]
  },
  {
   "cell_type": "code",
   "execution_count": 59,
   "id": "6052c7c2-78d1-4586-8209-8e7bcc632ad5",
   "metadata": {},
   "outputs": [
    {
     "name": "stdout",
     "output_type": "stream",
     "text": [
      "aryan\n",
      "Jadhav\n"
     ]
    },
    {
     "ename": "AttributeError",
     "evalue": "'Employee' object has no attribute 'salary'",
     "output_type": "error",
     "traceback": [
      "\u001b[1;31m---------------------------------------------------------------------------\u001b[0m",
      "\u001b[1;31mAttributeError\u001b[0m                            Traceback (most recent call last)",
      "Cell \u001b[1;32mIn[59], line 6\u001b[0m\n\u001b[0;32m      4\u001b[0m \u001b[38;5;28mprint\u001b[39m(emp1\u001b[38;5;241m.\u001b[39mfirst)\n\u001b[0;32m      5\u001b[0m \u001b[38;5;28mprint\u001b[39m(emp1\u001b[38;5;241m.\u001b[39mlast)\n\u001b[1;32m----> 6\u001b[0m \u001b[38;5;28mprint\u001b[39m(emp1\u001b[38;5;241m.\u001b[39msalary)\n",
      "\u001b[1;31mAttributeError\u001b[0m: 'Employee' object has no attribute 'salary'"
     ]
    }
   ],
   "source": [
    "emp1 = Employee('aryan','Jadhav',50000)\n",
    "emp2 = Employee('Alpit','gadhve',2000)\n",
    "\n",
    "print(emp1.first)\n",
    "print(emp1.last)\n",
    "print(emp1.salary) # error because salary is private variable"
   ]
  },
  {
   "cell_type": "code",
   "execution_count": 58,
   "id": "97f852ee-0613-4cea-8056-76274ad9cfb5",
   "metadata": {},
   "outputs": [
    {
     "name": "stdout",
     "output_type": "stream",
     "text": [
      "50000\n"
     ]
    }
   ],
   "source": [
    "emp1.show()"
   ]
  },
  {
   "cell_type": "markdown",
   "id": "48940fa4-e1ba-4ab5-93cc-16dee64a6f04",
   "metadata": {},
   "source": [
    "### inheritance"
   ]
  },
  {
   "cell_type": "code",
   "execution_count": 60,
   "id": "5e111ae2-34c2-4d2a-bf50-53f97a7a99e0",
   "metadata": {},
   "outputs": [],
   "source": [
    "class Emp2(Employee1): # emp2 is subclass and Employee is parent classs\n",
    "    pass"
   ]
  },
  {
   "cell_type": "code",
   "execution_count": 61,
   "id": "d4d14ba4-c328-4337-b675-7300f164e08c",
   "metadata": {},
   "outputs": [],
   "source": [
    "emp3 = Emp2('tejas','akare','55000')"
   ]
  },
  {
   "cell_type": "code",
   "execution_count": 62,
   "id": "37665973-469b-43d3-b526-7f6f88d48969",
   "metadata": {},
   "outputs": [
    {
     "name": "stdout",
     "output_type": "stream",
     "text": [
      "tejas ok\n"
     ]
    }
   ],
   "source": [
    "emp3.show()"
   ]
  },
  {
   "cell_type": "code",
   "execution_count": 75,
   "id": "1199807e-b101-44ef-ad06-72eab3390e30",
   "metadata": {},
   "outputs": [],
   "source": [
    "'''\n",
    "create class called person\n",
    "Attributes ==> name,age,city...(make use default parameters also)\n",
    "create method which will show all info\n",
    "'''\n",
    "\n",
    "class Person():\n",
    "    def __init__(self,name,age,city,kill = 0):\n",
    "        self.name = name\n",
    "        self.age = age\n",
    "        self.city = city\n",
    "        self.kill = kill\n",
    "    def show(self):\n",
    "        print('Name: ',self.name,'\\nAge: ',self.age,'\\nCity: ',self.city,'\\nkill: ',self.kill)"
   ]
  },
  {
   "cell_type": "code",
   "execution_count": 76,
   "id": "b225a770-ad47-4d7f-bea9-512d7594ec7b",
   "metadata": {},
   "outputs": [
    {
     "name": "stdout",
     "output_type": "stream",
     "text": [
      "Name:  Aryan \n",
      "Age:  18 \n",
      "City:  Nashik \n",
      "kill:  0\n"
     ]
    }
   ],
   "source": [
    "per1 = Person('Aryan',18,'Nashik')\n",
    "per1.show()"
   ]
  },
  {
   "cell_type": "code",
   "execution_count": 77,
   "id": "78119818-e3bc-422e-aa96-d6eee8b52269",
   "metadata": {},
   "outputs": [],
   "source": [
    "p2 = Person('Karan','17','Pune',1)"
   ]
  },
  {
   "cell_type": "raw",
   "id": "5d36cff6-3220-48d8-b33e-5a91cd94e638",
   "metadata": {},
   "source": [
    "p2.show()"
   ]
  }
 ],
 "metadata": {
  "kernelspec": {
   "display_name": "Python 3 (ipykernel)",
   "language": "python",
   "name": "python3"
  },
  "language_info": {
   "codemirror_mode": {
    "name": "ipython",
    "version": 3
   },
   "file_extension": ".py",
   "mimetype": "text/x-python",
   "name": "python",
   "nbconvert_exporter": "python",
   "pygments_lexer": "ipython3",
   "version": "3.11.7"
  }
 },
 "nbformat": 4,
 "nbformat_minor": 5
}
