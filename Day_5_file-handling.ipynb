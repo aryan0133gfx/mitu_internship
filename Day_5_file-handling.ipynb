{
 "cells": [
  {
   "cell_type": "markdown",
   "id": "8e915ad6-d7b2-4d2f-bbf9-91ea5f6d5532",
   "metadata": {},
   "source": [
    "### file handling"
   ]
  },
  {
   "cell_type": "code",
   "execution_count": 5,
   "id": "61f8a4b2-06a2-486a-8f7f-08d54f38d3d6",
   "metadata": {},
   "outputs": [
    {
     "name": "stdout",
     "output_type": "stream",
     "text": [
      "maha.txt\n"
     ]
    }
   ],
   "source": [
    "# importing file\n",
    "f = open('maha.txt', 'r')\n",
    "print(f.name)"
   ]
  },
  {
   "cell_type": "code",
   "execution_count": 6,
   "id": "4166d2e7-57c1-41c4-bd1b-17205005fe50",
   "metadata": {},
   "outputs": [
    {
     "name": "stdout",
     "output_type": "stream",
     "text": [
      "\"AI\" redirects here. For other uses, see AI (disambiguation), Artificial intelligence (disambiguation), and Intelligent agent.\n",
      "Part of a series on\n",
      "Artificial intelligence\n",
      "\n",
      "Major goals\n",
      "Approaches\n",
      "Applications\n",
      "Philosophy\n",
      "History\n",
      "Glossary\n",
      "vte\n",
      "Artificial intelligence (AI), in its broadest sense, is intelligence exhibited by machines, particularly computer systems. It is a field of research in computer science that develops and studies methods and software that enable machines to perceive their environment and uses learning and intelligence to take actions that maximize their chances of achieving defined goals.[1] Such machines may be called AIs.\n",
      "\n",
      "AI technology is widely used throughout industry, government, and science. Some high-profile applications include advanced web search engines (e.g., Google Search); recommendation systems (used by YouTube, Amazon, and Netflix); interacting via human speech (e.g., Google Assistant, Siri, and Alexa); autonomous vehicles (e.g., Waymo); generative and creative tools (e.g., ChatGPT and AI art); and superhuman play and analysis in strategy games (e.g., chess and Go).[2] However, many AI applications are not perceived as AI: \"A lot of cutting edge AI has filtered into general applications, often without being called AI because once something becomes useful enough and common enough it's not labeled AI anymore.\"[3][4]\n",
      "\n",
      "Alan Turing was the first person to conduct substantial research in the field that he called machine intelligence.[5] Artificial intelligence was founded as an academic discipline in 1956.[6] The field went through multiple cycles of optimism,[7][8] followed by periods of disappointment and loss of funding, known as AI winter.[9][10] Funding and interest vastly increased after 2012 when deep learning surpassed all previous AI techniques,[11] and after 2017 with the transformer architecture.[12] This led to the AI boom of the early 2020s, with companies, universities, and laboratories overwhelmingly based in the United States pioneering significant advances in artificial intelligence.[13]\n",
      "\n",
      "The growing use of artificial intelligence in the 21st century is influencing a societal and economic shift towards i\n"
     ]
    }
   ],
   "source": [
    "# read content inside file\n",
    "print(f.read())"
   ]
  },
  {
   "cell_type": "code",
   "execution_count": 7,
   "id": "8e5f4bf0-90c1-483b-a9aa-1ef987fd990e",
   "metadata": {},
   "outputs": [
    {
     "name": "stdout",
     "output_type": "stream",
     "text": [
      "r\n"
     ]
    }
   ],
   "source": [
    "# mode check\n",
    "print(f.mode)"
   ]
  },
  {
   "cell_type": "code",
   "execution_count": 8,
   "id": "91a77f68-297a-40e5-8237-e813c49a6297",
   "metadata": {},
   "outputs": [],
   "source": [
    "# closing file\n",
    "f.close()"
   ]
  },
  {
   "cell_type": "code",
   "execution_count": 9,
   "id": "d62fa0a2-348a-4f68-8936-f5fc2c176fd1",
   "metadata": {},
   "outputs": [
    {
     "ename": "ValueError",
     "evalue": "I/O operation on closed file.",
     "output_type": "error",
     "traceback": [
      "\u001b[1;31m---------------------------------------------------------------------------\u001b[0m",
      "\u001b[1;31mValueError\u001b[0m                                Traceback (most recent call last)",
      "Cell \u001b[1;32mIn[9], line 1\u001b[0m\n\u001b[1;32m----> 1\u001b[0m f\u001b[38;5;241m.\u001b[39mread()\n",
      "\u001b[1;31mValueError\u001b[0m: I/O operation on closed file."
     ]
    }
   ],
   "source": [
    "f.read()"
   ]
  },
  {
   "cell_type": "code",
   "execution_count": 12,
   "id": "38ca85e1-b654-4bd6-a644-88dbfcca84c5",
   "metadata": {},
   "outputs": [
    {
     "name": "stdout",
     "output_type": "stream",
     "text": [
      "\"AI\" redirects here. For other uses, see AI (disambiguation), Artificial intelligence (disambiguation), and Intelligent agent.\n",
      "Part of a series on\n",
      "Artificial intelligence\n",
      "\n",
      "Major goals\n",
      "Approaches\n",
      "Applications\n",
      "Philosophy\n",
      "History\n",
      "Glossary\n",
      "vte\n",
      "Artificial intelligence (AI), in its broadest sense, is intelligence exhibited by machines, particularly computer systems. It is a field of research in computer science that develops and studies methods and software that enable machines to perceive their environment and uses learning and intelligence to take actions that maximize their chances of achieving defined goals.[1] Such machines may be called AIs.\n",
      "\n",
      "AI technology is widely used throughout industry, government, and science. Some high-profile applications include advanced web search engines (e.g., Google Search); recommendation systems (used by YouTube, Amazon, and Netflix); interacting via human speech (e.g., Google Assistant, Siri, and Alexa); autonomous vehicles (e.g., Waymo); generative and creative tools (e.g., ChatGPT and AI art); and superhuman play and analysis in strategy games (e.g., chess and Go).[2] However, many AI applications are not perceived as AI: \"A lot of cutting edge AI has filtered into general applications, often without being called AI because once something becomes useful enough and common enough it's not labeled AI anymore.\"[3][4]\n",
      "\n",
      "Alan Turing was the first person to conduct substantial research in the field that he called machine intelligence.[5] Artificial intelligence was founded as an academic discipline in 1956.[6] The field went through multiple cycles of optimism,[7][8] followed by periods of disappointment and loss of funding, known as AI winter.[9][10] Funding and interest vastly increased after 2012 when deep learning surpassed all previous AI techniques,[11] and after 2017 with the transformer architecture.[12] This led to the AI boom of the early 2020s, with companies, universities, and laboratories overwhelmingly based in the United States pioneering significant advances in artificial intelligence.[13]\n",
      "\n",
      "The growing use of artificial intelligence in the 21st century is influencing a societal and economic shift towards i\n"
     ]
    }
   ],
   "source": [
    "# open  with context manager\n",
    "\n",
    "with open('maha.txt','r') as f:\n",
    "    content = f.read()\n",
    "    print(content)"
   ]
  },
  {
   "cell_type": "code",
   "execution_count": 11,
   "id": "9a42b52f-3c85-4f78-b318-ef2e41e33f21",
   "metadata": {},
   "outputs": [
    {
     "data": {
      "text/plain": [
       "True"
      ]
     },
     "execution_count": 11,
     "metadata": {},
     "output_type": "execute_result"
    }
   ],
   "source": [
    "f.closed"
   ]
  },
  {
   "cell_type": "code",
   "execution_count": 25,
   "id": "18bc20e7-e53a-4e14-9a6f-eaad10c22070",
   "metadata": {},
   "outputs": [
    {
     "name": "stdout",
     "output_type": "stream",
     "text": [
      "['\"AI\" redirects here. For other uses, see AI (disambiguation), Artificial intelligence (disambiguation), and Intelligent agent.\\n', 'Part of a series on\\n', 'Artificial intelligence\\n', '\\n', 'Major goals\\n', 'Approaches\\n', 'Applications\\n', 'Philosophy\\n', 'History\\n', 'Glossary\\n', 'vte\\n', 'Artificial intelligence (AI), in its broadest sense, is intelligence exhibited by machines, particularly computer systems. It is a field of research in computer science that develops and studies methods and software that enable machines to perceive their environment and uses learning and intelligence to take actions that maximize their chances of achieving defined goals.[1] Such machines may be called AIs.\\n', '\\n', 'AI technology is widely used throughout industry, government, and science. Some high-profile applications include advanced web search engines (e.g., Google Search); recommendation systems (used by YouTube, Amazon, and Netflix); interacting via human speech (e.g., Google Assistant, Siri, and Alexa); autonomous vehicles (e.g., Waymo); generative and creative tools (e.g., ChatGPT and AI art); and superhuman play and analysis in strategy games (e.g., chess and Go).[2] However, many AI applications are not perceived as AI: \"A lot of cutting edge AI has filtered into general applications, often without being called AI because once something becomes useful enough and common enough it\\'s not labeled AI anymore.\"[3][4]\\n', '\\n', 'Alan Turing was the first person to conduct substantial research in the field that he called machine intelligence.[5] Artificial intelligence was founded as an academic discipline in 1956.[6] The field went through multiple cycles of optimism,[7][8] followed by periods of disappointment and loss of funding, known as AI winter.[9][10] Funding and interest vastly increased after 2012 when deep learning surpassed all previous AI techniques,[11] and after 2017 with the transformer architecture.[12] This led to the AI boom of the early 2020s, with companies, universities, and laboratories overwhelmingly based in the United States pioneering significant advances in artificial intelligence.[13]\\n', '\\n', 'The growing use of artificial intelligence in the 21st century is influencing a societal and economic shift towards i']\n"
     ]
    }
   ],
   "source": [
    "# readlines\n",
    "with open('maha.txt','r') as f:\n",
    "    content = f.readlines()\n",
    "    print(content)"
   ]
  },
  {
   "cell_type": "code",
   "execution_count": 24,
   "id": "ec56ae57-405c-40a6-8230-36a5c07547bf",
   "metadata": {},
   "outputs": [
    {
     "name": "stdout",
     "output_type": "stream",
     "text": [
      "this first\n",
      "this is second\n"
     ]
    }
   ],
   "source": [
    "with open('nigga.txt','r') as f:\n",
    "    content = f.read()\n",
    "    print(content, end = '')\n",
    "\n",
    "    content = f.read()\n",
    "    print(content)"
   ]
  },
  {
   "cell_type": "code",
   "execution_count": 26,
   "id": "60bc1aca-a162-45de-b592-f0111fdb4068",
   "metadata": {},
   "outputs": [
    {
     "name": "stdout",
     "output_type": "stream",
     "text": [
      "this first\n",
      "this is second"
     ]
    }
   ],
   "source": [
    "with open('nigga.txt','r') as f:\n",
    "    for line in f:\n",
    "        print(line,end='')"
   ]
  },
  {
   "cell_type": "code",
   "execution_count": 27,
   "id": "b1dabfba-a90e-4d2b-9428-d5c642bc5a0d",
   "metadata": {},
   "outputs": [
    {
     "name": "stdout",
     "output_type": "stream",
     "text": [
      "thi\n"
     ]
    }
   ],
   "source": [
    "# read the 3 character\n",
    "\n",
    "with open('nigga.txt','r') as f:\n",
    "    content = f.read(3)\n",
    "    print(content)"
   ]
  },
  {
   "cell_type": "code",
   "execution_count": 4,
   "id": "5f91860b-b6bb-4adb-aee2-0a533f5b4def",
   "metadata": {},
   "outputs": [
    {
     "name": "stdout",
     "output_type": "stream",
     "text": [
      "this *first*\n",
      "this* is s*econd*"
     ]
    }
   ],
   "source": [
    "# using loop to read entire file 5 charecter at a time\n",
    "\n",
    "with open('nigga.txt','r') as f:\n",
    "    size = 5\n",
    "\n",
    "    content = f.read(size)\n",
    "    while len(content)>0:\n",
    "        print(content,end = '*')\n",
    "        content = f.read(size)"
   ]
  },
  {
   "cell_type": "code",
   "execution_count": 5,
   "id": "00570802-c504-4e58-bb01-80dfe2f45145",
   "metadata": {},
   "outputs": [
    {
     "name": "stdout",
     "output_type": "stream",
     "text": [
      "this \n",
      "this \n"
     ]
    }
   ],
   "source": [
    "with open('nigga.txt','r') as f:\n",
    "    size = 5\n",
    "    content = f.read(size)\n",
    "    print(content)\n",
    "\n",
    "    f.seek(0)# starts form start\n",
    "\n",
    "    content = f.read(size)\n",
    "    print(content)"
   ]
  },
  {
   "cell_type": "code",
   "execution_count": 6,
   "id": "95bacce4-ad7e-4ef1-9242-d20c6677e870",
   "metadata": {},
   "outputs": [],
   "source": [
    "with open('aryan.txt','w') as w:\n",
    "    pass"
   ]
  },
  {
   "cell_type": "code",
   "execution_count": 8,
   "id": "0aae3ae0-bd16-419d-a05e-42cd2c1aac3d",
   "metadata": {},
   "outputs": [],
   "source": [
    "with open('aryan.txt','w') as w:\n",
    "    w.write('My name is aryan')"
   ]
  },
  {
   "cell_type": "code",
   "execution_count": 3,
   "id": "04f9a683-bd2d-4668-ae5c-50a0e07e13c8",
   "metadata": {},
   "outputs": [],
   "source": [
    "with open('aryan.txt','w') as w:\n",
    "    w.write('My name is aryan')\n",
    "    w.seek(0)\n",
    "    w.write('XyLo')\n",
    "    "
   ]
  },
  {
   "cell_type": "code",
   "execution_count": 2,
   "id": "d9b771d9-173e-47bc-b266-50ca07b1f8a7",
   "metadata": {},
   "outputs": [],
   "source": [
    "# create a new file which will be copy of 'maha.txt'\n",
    "with open('x.txt','w')as x:\n",
    "    with open('maha.txt','r')as m:\n",
    "        for line in m:\n",
    "            x.write(line)"
   ]
  },
  {
   "cell_type": "code",
   "execution_count": 10,
   "id": "7782e672-5f3f-4629-893f-62ccc1d423d2",
   "metadata": {},
   "outputs": [],
   "source": [
    "# image\n",
    "with open('wall.jpg','rb') as i:\n",
    "    with open('wall','wb') as j:\n",
    "        for line in i:\n",
    "            j.write(line)"
   ]
  },
  {
   "cell_type": "code",
   "execution_count": null,
   "id": "16622097-91c6-43c7-8fe5-ff578813ad62",
   "metadata": {},
   "outputs": [],
   "source": []
  }
 ],
 "metadata": {
  "kernelspec": {
   "display_name": "Python 3 (ipykernel)",
   "language": "python",
   "name": "python3"
  },
  "language_info": {
   "codemirror_mode": {
    "name": "ipython",
    "version": 3
   },
   "file_extension": ".py",
   "mimetype": "text/x-python",
   "name": "python",
   "nbconvert_exporter": "python",
   "pygments_lexer": "ipython3",
   "version": "3.11.7"
  }
 },
 "nbformat": 4,
 "nbformat_minor": 5
}
