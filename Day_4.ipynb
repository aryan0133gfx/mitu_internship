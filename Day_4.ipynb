{
 "cells": [
  {
   "cell_type": "markdown",
   "id": "d48eb0b1-d995-4a09-a906-623b61652870",
   "metadata": {},
   "source": [
    "### funnction"
   ]
  },
  {
   "cell_type": "code",
   "execution_count": 1,
   "id": "b1fc34e7-702d-4806-8f1a-9bcb0a24dd2c",
   "metadata": {},
   "outputs": [
    {
     "name": "stdout",
     "output_type": "stream",
     "text": [
      "hello\n",
      "this is function\n"
     ]
    }
   ],
   "source": [
    "def show():\n",
    "    print(\"hello\")\n",
    "    print(\"this is function\")\n",
    "show()"
   ]
  },
  {
   "cell_type": "code",
   "execution_count": 2,
   "id": "bf4eec8b-95d0-4e10-9bdc-f270919c3f52",
   "metadata": {},
   "outputs": [
    {
     "name": "stdout",
     "output_type": "stream",
     "text": [
      "square is =  10000\n"
     ]
    }
   ],
   "source": [
    "# parameterized function\n",
    "def square(n):\n",
    "    result = n * n\n",
    "    print(\"square is = \",result)\n",
    "square(100)"
   ]
  },
  {
   "cell_type": "code",
   "execution_count": 3,
   "id": "804f2abb-8552-4d75-8a9a-eebd4b397719",
   "metadata": {},
   "outputs": [
    {
     "name": "stdin",
     "output_type": "stream",
     "text": [
      "enter a number 2\n"
     ]
    },
    {
     "name": "stdout",
     "output_type": "stream",
     "text": [
      "square is =  4\n"
     ]
    }
   ],
   "source": [
    "num = int(input(\"enter a number\"))\n",
    "square(num)"
   ]
  },
  {
   "cell_type": "code",
   "execution_count": 4,
   "id": "73689b82-f2ab-4805-8028-d56bf81fd580",
   "metadata": {},
   "outputs": [
    {
     "name": "stdout",
     "output_type": "stream",
     "text": [
      "greater number is =  199\n"
     ]
    }
   ],
   "source": [
    "# multi-parameterized function\n",
    "def largest(a,b):\n",
    "    if a>b:\n",
    "        print(\"greater number is = \",a)\n",
    "    elif a == b:\n",
    "        print(\"equal\")\n",
    "    else:\n",
    "        print(\"greater number is = \",b)\n",
    "\n",
    "largest(10,199)"
   ]
  },
  {
   "cell_type": "code",
   "execution_count": 6,
   "id": "2ab0ca1a-87a3-450a-833c-f1b68b721da9",
   "metadata": {},
   "outputs": [
    {
     "name": "stdout",
     "output_type": "stream",
     "text": [
      "aryan\n",
      "aryan\n",
      "aryan\n",
      "aryan\n",
      "aryan\n",
      "aryan\n",
      "aryan\n",
      "aryan\n",
      "aryan\n"
     ]
    }
   ],
   "source": [
    "# write a function which will print a string n times \n",
    "def print_str(str,n):\n",
    "    for i in range(n):\n",
    "        print(str)\n",
    "\n",
    "print_str(\"aryan\",9)"
   ]
  },
  {
   "cell_type": "code",
   "execution_count": 7,
   "id": "9fa5bf3b-0389-47c5-90e9-7c4f428a70a7",
   "metadata": {},
   "outputs": [
    {
     "data": {
      "text/plain": [
       "120"
      ]
     },
     "execution_count": 7,
     "metadata": {},
     "output_type": "execute_result"
    }
   ],
   "source": [
    "# function for factorial\n",
    "def facto(n):\n",
    "    fact = 1\n",
    "    i = 1\n",
    "    for i in range(i,n+1):\n",
    "        fact = fact * i\n",
    "    return fact\n",
    "facto(5)"
   ]
  },
  {
   "cell_type": "code",
   "execution_count": 8,
   "id": "e6a89cf9-1142-4eba-b10a-cfc41eac040b",
   "metadata": {},
   "outputs": [
    {
     "name": "stdout",
     "output_type": "stream",
     "text": [
      "30\n"
     ]
    }
   ],
   "source": [
    "##  diiference between return and print\n",
    "def add(a,b):\n",
    "    result = a + b\n",
    "    print(result)\n",
    "add(10,20)"
   ]
  },
  {
   "cell_type": "code",
   "execution_count": 9,
   "id": "b2ab00f6-50e8-493e-80ac-1af5e44d0942",
   "metadata": {},
   "outputs": [
    {
     "name": "stdout",
     "output_type": "stream",
     "text": [
      "30\n",
      "39\n"
     ]
    }
   ],
   "source": [
    "def add(a,b):\n",
    "    result = a + b\n",
    "    return result\n",
    "print(add(10,20))\n",
    "op  =  add(10,29)\n",
    "print(op)"
   ]
  },
  {
   "cell_type": "code",
   "execution_count": 10,
   "id": "89923b91-11db-4f0d-96fc-bdac8fb62900",
   "metadata": {},
   "outputs": [
    {
     "name": "stdout",
     "output_type": "stream",
     "text": [
      "69\n"
     ]
    }
   ],
   "source": [
    "## multiple returns in one function\n",
    "def largest(a,b):\n",
    "    if a>b:\n",
    "        return a\n",
    "    elif a == b:\n",
    "        return \"equal\"\n",
    "    else:\n",
    "        return b\n",
    "\n",
    "print(largest(69,67))"
   ]
  },
  {
   "cell_type": "code",
   "execution_count": 11,
   "id": "e020b307-acfb-4528-9bdd-131e650a076d",
   "metadata": {},
   "outputs": [
    {
     "name": "stdout",
     "output_type": "stream",
     "text": [
      "120.0\n"
     ]
    }
   ],
   "source": [
    "def ncr(n,r):\n",
    "    res =  facto(n)/ (facto(r) * facto(n-r))\n",
    "    return res\n",
    "print(ncr(10,3))"
   ]
  },
  {
   "cell_type": "code",
   "execution_count": 12,
   "id": "89399b41-84e5-44dd-87e2-e117a79df456",
   "metadata": {},
   "outputs": [
    {
     "name": "stdout",
     "output_type": "stream",
     "text": [
      "(25, 125)\n"
     ]
    }
   ],
   "source": [
    "## multi return value \n",
    "def calc(n):\n",
    "    sq = n*n\n",
    "    cu = n*n*n\n",
    "    return sq,cu\n",
    "    \n",
    "print(calc(5))"
   ]
  },
  {
   "cell_type": "code",
   "execution_count": 13,
   "id": "c33490d5-0dc3-40d9-b841-832542f53e7a",
   "metadata": {},
   "outputs": [
    {
     "name": "stdin",
     "output_type": "stream",
     "text": [
      "enter the number 23\n"
     ]
    },
    {
     "name": "stdout",
     "output_type": "stream",
     "text": [
      "square 529\n",
      "cube 12167\n"
     ]
    }
   ],
   "source": [
    "n = int(input(\"enter the number\"))\n",
    "x , y = calc(n)\n",
    "print(\"square\", x)\n",
    "print(\"cube\", y)"
   ]
  },
  {
   "cell_type": "code",
   "execution_count": 14,
   "id": "d82a9847-9498-47a9-9b44-7b5e410302e3",
   "metadata": {},
   "outputs": [
    {
     "name": "stdout",
     "output_type": "stream",
     "text": [
      "35\n",
      "100\n",
      "110\n",
      "70\n"
     ]
    }
   ],
   "source": [
    "# dafault parameter\n",
    "def add3(a = 5,b = 10,c = 20):\n",
    "    result = a + b + c\n",
    "    return result\n",
    "print(add3())\n",
    "print(add3(10,20,70))\n",
    "print(add3(20,70))\n",
    "print(add3(a = 10,c = 50))"
   ]
  },
  {
   "cell_type": "code",
   "execution_count": 15,
   "id": "e01a2b12-3892-4876-8b60-3c9d033f157a",
   "metadata": {},
   "outputs": [
    {
     "name": "stdout",
     "output_type": "stream",
     "text": [
      "106\n"
     ]
    }
   ],
   "source": [
    "def add3(a,b = 10,c = 20):\n",
    "    result = a + b + c\n",
    "    return result\n",
    "print(add3(76))"
   ]
  },
  {
   "cell_type": "code",
   "execution_count": 16,
   "id": "5f1b40cb-8ed7-4199-8c2b-40f5a618d8f4",
   "metadata": {},
   "outputs": [
    {
     "name": "stdout",
     "output_type": "stream",
     "text": [
      "98 43 56 857 89 3.0 karan "
     ]
    }
   ],
   "source": [
    "# infinite number of args \n",
    "def in1(*args):\n",
    "    for i in args:\n",
    "        print(i, end = \" \")\n",
    "in1(98,43,56,857,89,3.0,\"karan\")"
   ]
  },
  {
   "cell_type": "code",
   "execution_count": 17,
   "id": "8532c022-af12-419c-8edf-4a0ce4ad25df",
   "metadata": {},
   "outputs": [
    {
     "data": {
      "text/plain": [
       "25"
      ]
     },
     "execution_count": 17,
     "metadata": {},
     "output_type": "execute_result"
    }
   ],
   "source": [
    "# lambda function\n",
    "\n",
    "square = lambda x:x*x\n",
    "square(5)"
   ]
  },
  {
   "cell_type": "code",
   "execution_count": 18,
   "id": "3715d952-c154-4b1e-9e05-e49b661282d3",
   "metadata": {},
   "outputs": [
    {
     "data": {
      "text/plain": [
       "30"
      ]
     },
     "execution_count": 18,
     "metadata": {},
     "output_type": "execute_result"
    }
   ],
   "source": [
    "# addition of two numbers using lambda \n",
    "add = lambda x,y:x+y\n",
    "add(10,20)"
   ]
  },
  {
   "cell_type": "code",
   "execution_count": 19,
   "id": "5d535045-493a-47f8-bda1-48ccd2fe7a94",
   "metadata": {},
   "outputs": [
    {
     "data": {
      "text/plain": [
       "[234, 789, 123, 64, 67]"
      ]
     },
     "execution_count": 19,
     "metadata": {},
     "output_type": "execute_result"
    }
   ],
   "source": [
    "# filtering list with lambda function\n",
    "num = [34,24,234,789,123,64,67]\n",
    "new = filter(lambda x : x > 40,num)\n",
    "list(new)"
   ]
  },
  {
   "cell_type": "code",
   "execution_count": 20,
   "id": "266c2093-1caa-4e1d-9a5e-2dd2243b564c",
   "metadata": {},
   "outputs": [
    {
     "data": {
      "text/plain": [
       "[17.0, 12.0, 117.0, 394.5, 61.5, 32.0, 33.5]"
      ]
     },
     "execution_count": 20,
     "metadata": {},
     "output_type": "execute_result"
    }
   ],
   "source": [
    "# maping list wiht lambda function\n",
    "num = [34,24,234,789,123,64,67]\n",
    "new = map(lambda x : x/2,num)\n",
    "list(new)"
   ]
  },
  {
   "cell_type": "markdown",
   "id": "ac4e26f9-76eb-4632-a3d9-368fc698de14",
   "metadata": {},
   "source": [
    "### modules"
   ]
  },
  {
   "cell_type": "code",
   "execution_count": 21,
   "id": "dd9bd9bd-a04c-49fe-944e-6b3eb8c1afc9",
   "metadata": {},
   "outputs": [
    {
     "data": {
      "text/plain": [
       "10.0"
      ]
     },
     "execution_count": 21,
     "metadata": {},
     "output_type": "execute_result"
    }
   ],
   "source": [
    "import math\n",
    "math.sqrt(100)"
   ]
  },
  {
   "cell_type": "code",
   "execution_count": 22,
   "id": "c49ad346-53f7-453f-a8df-f3a3bd056a54",
   "metadata": {},
   "outputs": [
    {
     "data": {
      "text/plain": [
       "-0.9880316240928618"
      ]
     },
     "execution_count": 22,
     "metadata": {},
     "output_type": "execute_result"
    }
   ],
   "source": [
    "math.sin(30)"
   ]
  },
  {
   "cell_type": "code",
   "execution_count": 23,
   "id": "b6ba662f-e772-42ba-9c34-2f6b579d640f",
   "metadata": {},
   "outputs": [
    {
     "data": {
      "text/plain": [
       "2.302585092994046"
      ]
     },
     "execution_count": 23,
     "metadata": {},
     "output_type": "execute_result"
    }
   ],
   "source": [
    "math.log(10)"
   ]
  },
  {
   "cell_type": "code",
   "execution_count": 24,
   "id": "80b811c7-0d21-4196-b0ff-c962e2e53ff8",
   "metadata": {},
   "outputs": [
    {
     "name": "stdin",
     "output_type": "stream",
     "text": [
      "enter the value of radius 34\n"
     ]
    },
    {
     "name": "stdout",
     "output_type": "stream",
     "text": [
      "3631.681107549801\n"
     ]
    }
   ],
   "source": [
    "# read radius and find area\n",
    "r = int(input(\"enter the value of radius\"))\n",
    "area = math.pi*(r*r)\n",
    "print(area)"
   ]
  },
  {
   "cell_type": "code",
   "execution_count": 25,
   "id": "9fd8f59a-9c49-4821-adad-2f1551dd3320",
   "metadata": {},
   "outputs": [
    {
     "data": {
      "text/plain": [
       "'Tue Jun 11 10:45:37 2024'"
      ]
     },
     "execution_count": 25,
     "metadata": {},
     "output_type": "execute_result"
    }
   ],
   "source": [
    "import time\n",
    "time.asctime()"
   ]
  },
  {
   "cell_type": "code",
   "execution_count": 26,
   "id": "ab29a702-6d77-40fb-a18a-fceb159b3943",
   "metadata": {},
   "outputs": [
    {
     "name": "stdout",
     "output_type": "stream",
     "text": [
      "Aryan\n",
      "uth\n"
     ]
    }
   ],
   "source": [
    "print(\"Aryan\")\n",
    "time.sleep(4)\n",
    "print(\"uth\")"
   ]
  },
  {
   "cell_type": "code",
   "execution_count": 27,
   "id": "34849230-2a3c-4c42-ab02-8c8e9a6f1385",
   "metadata": {},
   "outputs": [
    {
     "data": {
      "text/plain": [
       "3.141592653589793"
      ]
     },
     "execution_count": 27,
     "metadata": {},
     "output_type": "execute_result"
    }
   ],
   "source": [
    "import math as m\n",
    "m.pi"
   ]
  },
  {
   "cell_type": "code",
   "execution_count": 28,
   "id": "4f29b9fd-9643-4a9d-8f33-e548d20afd94",
   "metadata": {},
   "outputs": [
    {
     "data": {
      "text/plain": [
       "4.0"
      ]
     },
     "execution_count": 28,
     "metadata": {},
     "output_type": "execute_result"
    }
   ],
   "source": [
    "from math import sqrt,pi,e,sin# slective import\n",
    "sqrt(16)"
   ]
  },
  {
   "cell_type": "code",
   "execution_count": 4,
   "id": "5e97dcb3-4777-401f-9752-9f3333c9f689",
   "metadata": {},
   "outputs": [
    {
     "name": "stdout",
     "output_type": "stream",
     "text": [
      "aryan\n",
      "17\n"
     ]
    }
   ],
   "source": [
    "import mod as m\n",
    "m.show()"
   ]
  }
 ],
 "metadata": {
  "kernelspec": {
   "display_name": "Python 3 (ipykernel)",
   "language": "python",
   "name": "python3"
  },
  "language_info": {
   "codemirror_mode": {
    "name": "ipython",
    "version": 3
   },
   "file_extension": ".py",
   "mimetype": "text/x-python",
   "name": "python",
   "nbconvert_exporter": "python",
   "pygments_lexer": "ipython3",
   "version": "3.11.7"
  }
 },
 "nbformat": 4,
 "nbformat_minor": 5
}
